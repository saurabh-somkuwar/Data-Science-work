{
 "cells": [
  {
   "cell_type": "code",
   "execution_count": 150,
   "metadata": {},
   "outputs": [],
   "source": [
    "import pandas as pd"
   ]
  },
  {
   "cell_type": "code",
   "execution_count": 151,
   "metadata": {},
   "outputs": [],
   "source": [
    "df = pd.read_csv(\"C:\\\\Users\\\\hp\\\\Desktop\\\\Online Batch\\\\1000_Companies.csv\")\n",
    "#df = pd.read_csv(\"1000_Companies.csv\") #### Those who are using online"
   ]
  },
  {
   "cell_type": "code",
   "execution_count": 152,
   "metadata": {},
   "outputs": [
    {
     "data": {
      "text/html": [
       "<div>\n",
       "<style scoped>\n",
       "    .dataframe tbody tr th:only-of-type {\n",
       "        vertical-align: middle;\n",
       "    }\n",
       "\n",
       "    .dataframe tbody tr th {\n",
       "        vertical-align: top;\n",
       "    }\n",
       "\n",
       "    .dataframe thead th {\n",
       "        text-align: right;\n",
       "    }\n",
       "</style>\n",
       "<table border=\"1\" class=\"dataframe\">\n",
       "  <thead>\n",
       "    <tr style=\"text-align: right;\">\n",
       "      <th></th>\n",
       "      <th>R&amp;D_Spend</th>\n",
       "      <th>Administration</th>\n",
       "      <th>Marketing_Spend</th>\n",
       "      <th>State</th>\n",
       "      <th>Profit</th>\n",
       "    </tr>\n",
       "  </thead>\n",
       "  <tbody>\n",
       "    <tr>\n",
       "      <th>0</th>\n",
       "      <td>165349.20</td>\n",
       "      <td>136897.80</td>\n",
       "      <td>471784.10</td>\n",
       "      <td>New York</td>\n",
       "      <td>192261.83</td>\n",
       "    </tr>\n",
       "    <tr>\n",
       "      <th>1</th>\n",
       "      <td>162597.70</td>\n",
       "      <td>151377.59</td>\n",
       "      <td>443898.53</td>\n",
       "      <td>California</td>\n",
       "      <td>191792.06</td>\n",
       "    </tr>\n",
       "    <tr>\n",
       "      <th>2</th>\n",
       "      <td>153441.51</td>\n",
       "      <td>101145.55</td>\n",
       "      <td>407934.54</td>\n",
       "      <td>Florida</td>\n",
       "      <td>191050.39</td>\n",
       "    </tr>\n",
       "    <tr>\n",
       "      <th>3</th>\n",
       "      <td>144372.41</td>\n",
       "      <td>118671.85</td>\n",
       "      <td>383199.62</td>\n",
       "      <td>New York</td>\n",
       "      <td>182901.99</td>\n",
       "    </tr>\n",
       "    <tr>\n",
       "      <th>4</th>\n",
       "      <td>142107.34</td>\n",
       "      <td>91391.77</td>\n",
       "      <td>366168.42</td>\n",
       "      <td>Florida</td>\n",
       "      <td>166187.94</td>\n",
       "    </tr>\n",
       "  </tbody>\n",
       "</table>\n",
       "</div>"
      ],
      "text/plain": [
       "   R&D_Spend  Administration  Marketing_Spend       State     Profit\n",
       "0  165349.20       136897.80        471784.10    New York  192261.83\n",
       "1  162597.70       151377.59        443898.53  California  191792.06\n",
       "2  153441.51       101145.55        407934.54     Florida  191050.39\n",
       "3  144372.41       118671.85        383199.62    New York  182901.99\n",
       "4  142107.34        91391.77        366168.42     Florida  166187.94"
      ]
     },
     "execution_count": 152,
     "metadata": {},
     "output_type": "execute_result"
    }
   ],
   "source": [
    "df.head()"
   ]
  },
  {
   "cell_type": "code",
   "execution_count": 153,
   "metadata": {},
   "outputs": [
    {
     "data": {
      "text/plain": [
       "R&D_Spend          5\n",
       "Administration     4\n",
       "Marketing_Spend    0\n",
       "State              0\n",
       "Profit             0\n",
       "dtype: int64"
      ]
     },
     "execution_count": 153,
     "metadata": {},
     "output_type": "execute_result"
    }
   ],
   "source": [
    "df.isna().sum()"
   ]
  },
  {
   "cell_type": "code",
   "execution_count": 154,
   "metadata": {},
   "outputs": [],
   "source": [
    "df.dropna(axis = 0,inplace = True)  # 0 means rows and 1 means columns"
   ]
  },
  {
   "cell_type": "code",
   "execution_count": 155,
   "metadata": {},
   "outputs": [
    {
     "data": {
      "text/plain": [
       "R&D_Spend          0\n",
       "Administration     0\n",
       "Marketing_Spend    0\n",
       "State              0\n",
       "Profit             0\n",
       "dtype: int64"
      ]
     },
     "execution_count": 155,
     "metadata": {},
     "output_type": "execute_result"
    }
   ],
   "source": [
    "df.isna().sum()"
   ]
  },
  {
   "cell_type": "code",
   "execution_count": 156,
   "metadata": {},
   "outputs": [
    {
     "data": {
      "text/plain": [
       "(991, 5)"
      ]
     },
     "execution_count": 156,
     "metadata": {},
     "output_type": "execute_result"
    }
   ],
   "source": [
    "df.shape"
   ]
  },
  {
   "cell_type": "code",
   "execution_count": 157,
   "metadata": {},
   "outputs": [],
   "source": [
    "#! pip install sklearn\n",
    "from sklearn.preprocessing import LabelEncoder"
   ]
  },
  {
   "cell_type": "code",
   "execution_count": 158,
   "metadata": {},
   "outputs": [],
   "source": [
    "ec = LabelEncoder()"
   ]
  },
  {
   "cell_type": "code",
   "execution_count": 159,
   "metadata": {},
   "outputs": [],
   "source": [
    "df['State'] = ec.fit_transform(df['State'])"
   ]
  },
  {
   "cell_type": "code",
   "execution_count": 160,
   "metadata": {},
   "outputs": [
    {
     "data": {
      "text/html": [
       "<div>\n",
       "<style scoped>\n",
       "    .dataframe tbody tr th:only-of-type {\n",
       "        vertical-align: middle;\n",
       "    }\n",
       "\n",
       "    .dataframe tbody tr th {\n",
       "        vertical-align: top;\n",
       "    }\n",
       "\n",
       "    .dataframe thead th {\n",
       "        text-align: right;\n",
       "    }\n",
       "</style>\n",
       "<table border=\"1\" class=\"dataframe\">\n",
       "  <thead>\n",
       "    <tr style=\"text-align: right;\">\n",
       "      <th></th>\n",
       "      <th>R&amp;D_Spend</th>\n",
       "      <th>Administration</th>\n",
       "      <th>Marketing_Spend</th>\n",
       "      <th>State</th>\n",
       "      <th>Profit</th>\n",
       "    </tr>\n",
       "  </thead>\n",
       "  <tbody>\n",
       "    <tr>\n",
       "      <th>0</th>\n",
       "      <td>165349.20</td>\n",
       "      <td>136897.80</td>\n",
       "      <td>471784.10</td>\n",
       "      <td>2</td>\n",
       "      <td>192261.83</td>\n",
       "    </tr>\n",
       "    <tr>\n",
       "      <th>1</th>\n",
       "      <td>162597.70</td>\n",
       "      <td>151377.59</td>\n",
       "      <td>443898.53</td>\n",
       "      <td>0</td>\n",
       "      <td>191792.06</td>\n",
       "    </tr>\n",
       "    <tr>\n",
       "      <th>2</th>\n",
       "      <td>153441.51</td>\n",
       "      <td>101145.55</td>\n",
       "      <td>407934.54</td>\n",
       "      <td>1</td>\n",
       "      <td>191050.39</td>\n",
       "    </tr>\n",
       "    <tr>\n",
       "      <th>3</th>\n",
       "      <td>144372.41</td>\n",
       "      <td>118671.85</td>\n",
       "      <td>383199.62</td>\n",
       "      <td>2</td>\n",
       "      <td>182901.99</td>\n",
       "    </tr>\n",
       "    <tr>\n",
       "      <th>4</th>\n",
       "      <td>142107.34</td>\n",
       "      <td>91391.77</td>\n",
       "      <td>366168.42</td>\n",
       "      <td>1</td>\n",
       "      <td>166187.94</td>\n",
       "    </tr>\n",
       "  </tbody>\n",
       "</table>\n",
       "</div>"
      ],
      "text/plain": [
       "   R&D_Spend  Administration  Marketing_Spend  State     Profit\n",
       "0  165349.20       136897.80        471784.10      2  192261.83\n",
       "1  162597.70       151377.59        443898.53      0  191792.06\n",
       "2  153441.51       101145.55        407934.54      1  191050.39\n",
       "3  144372.41       118671.85        383199.62      2  182901.99\n",
       "4  142107.34        91391.77        366168.42      1  166187.94"
      ]
     },
     "execution_count": 160,
     "metadata": {},
     "output_type": "execute_result"
    }
   ],
   "source": [
    "df.head()  #### "
   ]
  },
  {
   "cell_type": "code",
   "execution_count": 161,
   "metadata": {},
   "outputs": [
    {
     "data": {
      "text/plain": [
       "array(['California', 'Florida', 'New York'], dtype=object)"
      ]
     },
     "execution_count": 161,
     "metadata": {},
     "output_type": "execute_result"
    }
   ],
   "source": [
    "ec.classes_"
   ]
  },
  {
   "cell_type": "code",
   "execution_count": 162,
   "metadata": {},
   "outputs": [
    {
     "data": {
      "text/plain": [
       "['California', 'Florida', 'New York', 'Florida']"
      ]
     },
     "execution_count": 162,
     "metadata": {},
     "output_type": "execute_result"
    }
   ],
   "source": [
    "list(ec.inverse_transform([0,1,2,1]))"
   ]
  },
  {
   "cell_type": "code",
   "execution_count": 163,
   "metadata": {},
   "outputs": [],
   "source": [
    "### y = mx1 + mx2 + mx3 + c "
   ]
  },
  {
   "cell_type": "code",
   "execution_count": 164,
   "metadata": {},
   "outputs": [],
   "source": [
    "from sklearn.model_selection import train_test_split"
   ]
  },
  {
   "cell_type": "code",
   "execution_count": 165,
   "metadata": {},
   "outputs": [],
   "source": [
    "#### One hot encoder\n",
    "from sklearn.preprocessing import OneHotEncoder"
   ]
  },
  {
   "cell_type": "code",
   "execution_count": 148,
   "metadata": {},
   "outputs": [],
   "source": [
    "df['State'] = pd.get_dummies(df['State'])"
   ]
  },
  {
   "cell_type": "code",
   "execution_count": 149,
   "metadata": {},
   "outputs": [
    {
     "data": {
      "text/html": [
       "<div>\n",
       "<style scoped>\n",
       "    .dataframe tbody tr th:only-of-type {\n",
       "        vertical-align: middle;\n",
       "    }\n",
       "\n",
       "    .dataframe tbody tr th {\n",
       "        vertical-align: top;\n",
       "    }\n",
       "\n",
       "    .dataframe thead th {\n",
       "        text-align: right;\n",
       "    }\n",
       "</style>\n",
       "<table border=\"1\" class=\"dataframe\">\n",
       "  <thead>\n",
       "    <tr style=\"text-align: right;\">\n",
       "      <th></th>\n",
       "      <th>R&amp;D_Spend</th>\n",
       "      <th>Administration</th>\n",
       "      <th>Marketing_Spend</th>\n",
       "      <th>State</th>\n",
       "      <th>Profit</th>\n",
       "    </tr>\n",
       "  </thead>\n",
       "  <tbody>\n",
       "    <tr>\n",
       "      <th>0</th>\n",
       "      <td>165349.20</td>\n",
       "      <td>136897.8000</td>\n",
       "      <td>471784.10000</td>\n",
       "      <td>0</td>\n",
       "      <td>192261.83000</td>\n",
       "    </tr>\n",
       "    <tr>\n",
       "      <th>1</th>\n",
       "      <td>162597.70</td>\n",
       "      <td>151377.5900</td>\n",
       "      <td>443898.53000</td>\n",
       "      <td>1</td>\n",
       "      <td>191792.06000</td>\n",
       "    </tr>\n",
       "    <tr>\n",
       "      <th>2</th>\n",
       "      <td>153441.51</td>\n",
       "      <td>101145.5500</td>\n",
       "      <td>407934.54000</td>\n",
       "      <td>0</td>\n",
       "      <td>191050.39000</td>\n",
       "    </tr>\n",
       "    <tr>\n",
       "      <th>3</th>\n",
       "      <td>144372.41</td>\n",
       "      <td>118671.8500</td>\n",
       "      <td>383199.62000</td>\n",
       "      <td>0</td>\n",
       "      <td>182901.99000</td>\n",
       "    </tr>\n",
       "    <tr>\n",
       "      <th>4</th>\n",
       "      <td>142107.34</td>\n",
       "      <td>91391.7700</td>\n",
       "      <td>366168.42000</td>\n",
       "      <td>0</td>\n",
       "      <td>166187.94000</td>\n",
       "    </tr>\n",
       "    <tr>\n",
       "      <th>5</th>\n",
       "      <td>131876.90</td>\n",
       "      <td>99814.7100</td>\n",
       "      <td>362861.36000</td>\n",
       "      <td>0</td>\n",
       "      <td>156991.12000</td>\n",
       "    </tr>\n",
       "    <tr>\n",
       "      <th>6</th>\n",
       "      <td>134615.46</td>\n",
       "      <td>147198.8700</td>\n",
       "      <td>127716.82000</td>\n",
       "      <td>1</td>\n",
       "      <td>156122.51000</td>\n",
       "    </tr>\n",
       "    <tr>\n",
       "      <th>7</th>\n",
       "      <td>130298.13</td>\n",
       "      <td>145530.0600</td>\n",
       "      <td>323876.68000</td>\n",
       "      <td>0</td>\n",
       "      <td>155752.60000</td>\n",
       "    </tr>\n",
       "    <tr>\n",
       "      <th>8</th>\n",
       "      <td>120542.52</td>\n",
       "      <td>148718.9500</td>\n",
       "      <td>311613.29000</td>\n",
       "      <td>0</td>\n",
       "      <td>152211.77000</td>\n",
       "    </tr>\n",
       "    <tr>\n",
       "      <th>9</th>\n",
       "      <td>123334.88</td>\n",
       "      <td>108679.1700</td>\n",
       "      <td>304981.62000</td>\n",
       "      <td>1</td>\n",
       "      <td>149759.96000</td>\n",
       "    </tr>\n",
       "    <tr>\n",
       "      <th>10</th>\n",
       "      <td>101913.08</td>\n",
       "      <td>110594.1100</td>\n",
       "      <td>229160.95000</td>\n",
       "      <td>0</td>\n",
       "      <td>146121.95000</td>\n",
       "    </tr>\n",
       "    <tr>\n",
       "      <th>12</th>\n",
       "      <td>93863.75</td>\n",
       "      <td>127320.3800</td>\n",
       "      <td>249839.44000</td>\n",
       "      <td>0</td>\n",
       "      <td>141585.52000</td>\n",
       "    </tr>\n",
       "    <tr>\n",
       "      <th>13</th>\n",
       "      <td>91992.39</td>\n",
       "      <td>135495.0700</td>\n",
       "      <td>252664.93000</td>\n",
       "      <td>1</td>\n",
       "      <td>134307.35000</td>\n",
       "    </tr>\n",
       "    <tr>\n",
       "      <th>14</th>\n",
       "      <td>119943.24</td>\n",
       "      <td>156547.4200</td>\n",
       "      <td>256512.92000</td>\n",
       "      <td>0</td>\n",
       "      <td>132602.65000</td>\n",
       "    </tr>\n",
       "    <tr>\n",
       "      <th>16</th>\n",
       "      <td>78013.11</td>\n",
       "      <td>121597.5500</td>\n",
       "      <td>264346.06000</td>\n",
       "      <td>1</td>\n",
       "      <td>126992.93000</td>\n",
       "    </tr>\n",
       "    <tr>\n",
       "      <th>17</th>\n",
       "      <td>94657.16</td>\n",
       "      <td>145077.5800</td>\n",
       "      <td>282574.31000</td>\n",
       "      <td>0</td>\n",
       "      <td>125370.37000</td>\n",
       "    </tr>\n",
       "    <tr>\n",
       "      <th>18</th>\n",
       "      <td>91749.16</td>\n",
       "      <td>114175.7900</td>\n",
       "      <td>294919.57000</td>\n",
       "      <td>0</td>\n",
       "      <td>124266.90000</td>\n",
       "    </tr>\n",
       "    <tr>\n",
       "      <th>19</th>\n",
       "      <td>86419.70</td>\n",
       "      <td>153514.1100</td>\n",
       "      <td>0.00000</td>\n",
       "      <td>0</td>\n",
       "      <td>122776.86000</td>\n",
       "    </tr>\n",
       "    <tr>\n",
       "      <th>20</th>\n",
       "      <td>76253.86</td>\n",
       "      <td>113867.3000</td>\n",
       "      <td>298664.47000</td>\n",
       "      <td>1</td>\n",
       "      <td>118474.03000</td>\n",
       "    </tr>\n",
       "    <tr>\n",
       "      <th>22</th>\n",
       "      <td>73994.56</td>\n",
       "      <td>122782.7500</td>\n",
       "      <td>303319.26000</td>\n",
       "      <td>0</td>\n",
       "      <td>110352.25000</td>\n",
       "    </tr>\n",
       "    <tr>\n",
       "      <th>23</th>\n",
       "      <td>67532.53</td>\n",
       "      <td>105751.0300</td>\n",
       "      <td>304768.73000</td>\n",
       "      <td>0</td>\n",
       "      <td>108733.99000</td>\n",
       "    </tr>\n",
       "    <tr>\n",
       "      <th>25</th>\n",
       "      <td>64664.71</td>\n",
       "      <td>139553.1600</td>\n",
       "      <td>137962.62000</td>\n",
       "      <td>1</td>\n",
       "      <td>107404.34000</td>\n",
       "    </tr>\n",
       "    <tr>\n",
       "      <th>26</th>\n",
       "      <td>75328.87</td>\n",
       "      <td>144135.9800</td>\n",
       "      <td>134050.07000</td>\n",
       "      <td>0</td>\n",
       "      <td>105733.54000</td>\n",
       "    </tr>\n",
       "    <tr>\n",
       "      <th>27</th>\n",
       "      <td>72107.60</td>\n",
       "      <td>127864.5500</td>\n",
       "      <td>353183.81000</td>\n",
       "      <td>0</td>\n",
       "      <td>105008.31000</td>\n",
       "    </tr>\n",
       "    <tr>\n",
       "      <th>28</th>\n",
       "      <td>66051.52</td>\n",
       "      <td>182645.5600</td>\n",
       "      <td>118148.20000</td>\n",
       "      <td>0</td>\n",
       "      <td>103282.38000</td>\n",
       "    </tr>\n",
       "    <tr>\n",
       "      <th>29</th>\n",
       "      <td>65605.48</td>\n",
       "      <td>153032.0600</td>\n",
       "      <td>107138.38000</td>\n",
       "      <td>0</td>\n",
       "      <td>101004.64000</td>\n",
       "    </tr>\n",
       "    <tr>\n",
       "      <th>32</th>\n",
       "      <td>63408.86</td>\n",
       "      <td>129219.6100</td>\n",
       "      <td>46085.25000</td>\n",
       "      <td>1</td>\n",
       "      <td>97427.84000</td>\n",
       "    </tr>\n",
       "    <tr>\n",
       "      <th>33</th>\n",
       "      <td>55493.95</td>\n",
       "      <td>103057.4900</td>\n",
       "      <td>214634.81000</td>\n",
       "      <td>0</td>\n",
       "      <td>96778.92000</td>\n",
       "    </tr>\n",
       "    <tr>\n",
       "      <th>34</th>\n",
       "      <td>46426.07</td>\n",
       "      <td>157693.9200</td>\n",
       "      <td>210797.67000</td>\n",
       "      <td>1</td>\n",
       "      <td>96712.80000</td>\n",
       "    </tr>\n",
       "    <tr>\n",
       "      <th>35</th>\n",
       "      <td>46014.02</td>\n",
       "      <td>85047.4400</td>\n",
       "      <td>205517.64000</td>\n",
       "      <td>0</td>\n",
       "      <td>96479.51000</td>\n",
       "    </tr>\n",
       "    <tr>\n",
       "      <th>...</th>\n",
       "      <td>...</td>\n",
       "      <td>...</td>\n",
       "      <td>...</td>\n",
       "      <td>...</td>\n",
       "      <td>...</td>\n",
       "    </tr>\n",
       "    <tr>\n",
       "      <th>970</th>\n",
       "      <td>13856.00</td>\n",
       "      <td>112503.4128</td>\n",
       "      <td>95514.22902</td>\n",
       "      <td>0</td>\n",
       "      <td>60869.96038</td>\n",
       "    </tr>\n",
       "    <tr>\n",
       "      <th>971</th>\n",
       "      <td>71829.00</td>\n",
       "      <td>121065.1295</td>\n",
       "      <td>207373.29080</td>\n",
       "      <td>0</td>\n",
       "      <td>110395.79400</td>\n",
       "    </tr>\n",
       "    <tr>\n",
       "      <th>972</th>\n",
       "      <td>131154.00</td>\n",
       "      <td>129826.5157</td>\n",
       "      <td>321841.04030</td>\n",
       "      <td>0</td>\n",
       "      <td>161076.62960</td>\n",
       "    </tr>\n",
       "    <tr>\n",
       "      <th>973</th>\n",
       "      <td>68679.00</td>\n",
       "      <td>120599.9232</td>\n",
       "      <td>201295.35720</td>\n",
       "      <td>0</td>\n",
       "      <td>107704.77620</td>\n",
       "    </tr>\n",
       "    <tr>\n",
       "      <th>974</th>\n",
       "      <td>108056.00</td>\n",
       "      <td>126415.2979</td>\n",
       "      <td>277273.38630</td>\n",
       "      <td>1</td>\n",
       "      <td>141344.20750</td>\n",
       "    </tr>\n",
       "    <tr>\n",
       "      <th>975</th>\n",
       "      <td>140149.00</td>\n",
       "      <td>131154.9383</td>\n",
       "      <td>339196.91740</td>\n",
       "      <td>0</td>\n",
       "      <td>168760.98050</td>\n",
       "    </tr>\n",
       "    <tr>\n",
       "      <th>976</th>\n",
       "      <td>56850.00</td>\n",
       "      <td>118852.9626</td>\n",
       "      <td>178471.26940</td>\n",
       "      <td>1</td>\n",
       "      <td>97599.36358</td>\n",
       "    </tr>\n",
       "    <tr>\n",
       "      <th>977</th>\n",
       "      <td>47438.00</td>\n",
       "      <td>117462.9555</td>\n",
       "      <td>160310.78970</td>\n",
       "      <td>0</td>\n",
       "      <td>89558.77320</td>\n",
       "    </tr>\n",
       "    <tr>\n",
       "      <th>978</th>\n",
       "      <td>58867.00</td>\n",
       "      <td>119150.8423</td>\n",
       "      <td>182363.07640</td>\n",
       "      <td>0</td>\n",
       "      <td>99322.46927</td>\n",
       "    </tr>\n",
       "    <tr>\n",
       "      <th>979</th>\n",
       "      <td>12914.00</td>\n",
       "      <td>112364.2939</td>\n",
       "      <td>93696.63744</td>\n",
       "      <td>1</td>\n",
       "      <td>60065.21791</td>\n",
       "    </tr>\n",
       "    <tr>\n",
       "      <th>980</th>\n",
       "      <td>62574.00</td>\n",
       "      <td>119698.3089</td>\n",
       "      <td>189515.74310</td>\n",
       "      <td>0</td>\n",
       "      <td>102489.32740</td>\n",
       "    </tr>\n",
       "    <tr>\n",
       "      <th>981</th>\n",
       "      <td>53106.00</td>\n",
       "      <td>118300.0316</td>\n",
       "      <td>171247.21120</td>\n",
       "      <td>1</td>\n",
       "      <td>94400.89669</td>\n",
       "    </tr>\n",
       "    <tr>\n",
       "      <th>982</th>\n",
       "      <td>123537.00</td>\n",
       "      <td>128701.6025</td>\n",
       "      <td>307144.01800</td>\n",
       "      <td>1</td>\n",
       "      <td>154569.49220</td>\n",
       "    </tr>\n",
       "    <tr>\n",
       "      <th>983</th>\n",
       "      <td>48901.00</td>\n",
       "      <td>117679.0180</td>\n",
       "      <td>163133.65220</td>\n",
       "      <td>0</td>\n",
       "      <td>90808.60147</td>\n",
       "    </tr>\n",
       "    <tr>\n",
       "      <th>984</th>\n",
       "      <td>105143.00</td>\n",
       "      <td>125985.0928</td>\n",
       "      <td>271652.74480</td>\n",
       "      <td>1</td>\n",
       "      <td>138855.65680</td>\n",
       "    </tr>\n",
       "    <tr>\n",
       "      <th>985</th>\n",
       "      <td>63615.00</td>\n",
       "      <td>119852.0486</td>\n",
       "      <td>191524.35540</td>\n",
       "      <td>0</td>\n",
       "      <td>103378.64470</td>\n",
       "    </tr>\n",
       "    <tr>\n",
       "      <th>986</th>\n",
       "      <td>100405.00</td>\n",
       "      <td>125285.3634</td>\n",
       "      <td>262510.76090</td>\n",
       "      <td>1</td>\n",
       "      <td>134808.02420</td>\n",
       "    </tr>\n",
       "    <tr>\n",
       "      <th>987</th>\n",
       "      <td>41289.00</td>\n",
       "      <td>116554.8432</td>\n",
       "      <td>148446.27740</td>\n",
       "      <td>0</td>\n",
       "      <td>84305.73556</td>\n",
       "    </tr>\n",
       "    <tr>\n",
       "      <th>988</th>\n",
       "      <td>39970.00</td>\n",
       "      <td>116360.0473</td>\n",
       "      <td>145901.26330</td>\n",
       "      <td>0</td>\n",
       "      <td>83178.92524</td>\n",
       "    </tr>\n",
       "    <tr>\n",
       "      <th>989</th>\n",
       "      <td>43532.00</td>\n",
       "      <td>116886.0996</td>\n",
       "      <td>152774.15210</td>\n",
       "      <td>0</td>\n",
       "      <td>86221.91110</td>\n",
       "    </tr>\n",
       "    <tr>\n",
       "      <th>990</th>\n",
       "      <td>136133.00</td>\n",
       "      <td>130561.8371</td>\n",
       "      <td>331448.03440</td>\n",
       "      <td>1</td>\n",
       "      <td>165330.14630</td>\n",
       "    </tr>\n",
       "    <tr>\n",
       "      <th>991</th>\n",
       "      <td>131106.00</td>\n",
       "      <td>129819.4269</td>\n",
       "      <td>321748.42420</td>\n",
       "      <td>0</td>\n",
       "      <td>161035.62360</td>\n",
       "    </tr>\n",
       "    <tr>\n",
       "      <th>992</th>\n",
       "      <td>105127.00</td>\n",
       "      <td>125982.7298</td>\n",
       "      <td>271621.87280</td>\n",
       "      <td>0</td>\n",
       "      <td>138841.98810</td>\n",
       "    </tr>\n",
       "    <tr>\n",
       "      <th>993</th>\n",
       "      <td>46798.00</td>\n",
       "      <td>117368.4374</td>\n",
       "      <td>159075.90800</td>\n",
       "      <td>1</td>\n",
       "      <td>89012.02672</td>\n",
       "    </tr>\n",
       "    <tr>\n",
       "      <th>994</th>\n",
       "      <td>97209.00</td>\n",
       "      <td>124813.3635</td>\n",
       "      <td>256344.07010</td>\n",
       "      <td>0</td>\n",
       "      <td>132077.70900</td>\n",
       "    </tr>\n",
       "    <tr>\n",
       "      <th>995</th>\n",
       "      <td>54135.00</td>\n",
       "      <td>118451.9990</td>\n",
       "      <td>173232.66950</td>\n",
       "      <td>1</td>\n",
       "      <td>95279.96251</td>\n",
       "    </tr>\n",
       "    <tr>\n",
       "      <th>996</th>\n",
       "      <td>134970.00</td>\n",
       "      <td>130390.0800</td>\n",
       "      <td>329204.02280</td>\n",
       "      <td>1</td>\n",
       "      <td>164336.60550</td>\n",
       "    </tr>\n",
       "    <tr>\n",
       "      <th>997</th>\n",
       "      <td>100275.47</td>\n",
       "      <td>241926.3100</td>\n",
       "      <td>227142.82000</td>\n",
       "      <td>1</td>\n",
       "      <td>413956.48000</td>\n",
       "    </tr>\n",
       "    <tr>\n",
       "      <th>998</th>\n",
       "      <td>128456.23</td>\n",
       "      <td>321652.1400</td>\n",
       "      <td>281692.32000</td>\n",
       "      <td>1</td>\n",
       "      <td>333962.19000</td>\n",
       "    </tr>\n",
       "    <tr>\n",
       "      <th>999</th>\n",
       "      <td>161181.72</td>\n",
       "      <td>270939.8600</td>\n",
       "      <td>295442.17000</td>\n",
       "      <td>0</td>\n",
       "      <td>476485.43000</td>\n",
       "    </tr>\n",
       "  </tbody>\n",
       "</table>\n",
       "<p>991 rows × 5 columns</p>\n",
       "</div>"
      ],
      "text/plain": [
       "     R&D_Spend  Administration  Marketing_Spend  State        Profit\n",
       "0    165349.20     136897.8000     471784.10000      0  192261.83000\n",
       "1    162597.70     151377.5900     443898.53000      1  191792.06000\n",
       "2    153441.51     101145.5500     407934.54000      0  191050.39000\n",
       "3    144372.41     118671.8500     383199.62000      0  182901.99000\n",
       "4    142107.34      91391.7700     366168.42000      0  166187.94000\n",
       "5    131876.90      99814.7100     362861.36000      0  156991.12000\n",
       "6    134615.46     147198.8700     127716.82000      1  156122.51000\n",
       "7    130298.13     145530.0600     323876.68000      0  155752.60000\n",
       "8    120542.52     148718.9500     311613.29000      0  152211.77000\n",
       "9    123334.88     108679.1700     304981.62000      1  149759.96000\n",
       "10   101913.08     110594.1100     229160.95000      0  146121.95000\n",
       "12    93863.75     127320.3800     249839.44000      0  141585.52000\n",
       "13    91992.39     135495.0700     252664.93000      1  134307.35000\n",
       "14   119943.24     156547.4200     256512.92000      0  132602.65000\n",
       "16    78013.11     121597.5500     264346.06000      1  126992.93000\n",
       "17    94657.16     145077.5800     282574.31000      0  125370.37000\n",
       "18    91749.16     114175.7900     294919.57000      0  124266.90000\n",
       "19    86419.70     153514.1100          0.00000      0  122776.86000\n",
       "20    76253.86     113867.3000     298664.47000      1  118474.03000\n",
       "22    73994.56     122782.7500     303319.26000      0  110352.25000\n",
       "23    67532.53     105751.0300     304768.73000      0  108733.99000\n",
       "25    64664.71     139553.1600     137962.62000      1  107404.34000\n",
       "26    75328.87     144135.9800     134050.07000      0  105733.54000\n",
       "27    72107.60     127864.5500     353183.81000      0  105008.31000\n",
       "28    66051.52     182645.5600     118148.20000      0  103282.38000\n",
       "29    65605.48     153032.0600     107138.38000      0  101004.64000\n",
       "32    63408.86     129219.6100      46085.25000      1   97427.84000\n",
       "33    55493.95     103057.4900     214634.81000      0   96778.92000\n",
       "34    46426.07     157693.9200     210797.67000      1   96712.80000\n",
       "35    46014.02      85047.4400     205517.64000      0   96479.51000\n",
       "..         ...             ...              ...    ...           ...\n",
       "970   13856.00     112503.4128      95514.22902      0   60869.96038\n",
       "971   71829.00     121065.1295     207373.29080      0  110395.79400\n",
       "972  131154.00     129826.5157     321841.04030      0  161076.62960\n",
       "973   68679.00     120599.9232     201295.35720      0  107704.77620\n",
       "974  108056.00     126415.2979     277273.38630      1  141344.20750\n",
       "975  140149.00     131154.9383     339196.91740      0  168760.98050\n",
       "976   56850.00     118852.9626     178471.26940      1   97599.36358\n",
       "977   47438.00     117462.9555     160310.78970      0   89558.77320\n",
       "978   58867.00     119150.8423     182363.07640      0   99322.46927\n",
       "979   12914.00     112364.2939      93696.63744      1   60065.21791\n",
       "980   62574.00     119698.3089     189515.74310      0  102489.32740\n",
       "981   53106.00     118300.0316     171247.21120      1   94400.89669\n",
       "982  123537.00     128701.6025     307144.01800      1  154569.49220\n",
       "983   48901.00     117679.0180     163133.65220      0   90808.60147\n",
       "984  105143.00     125985.0928     271652.74480      1  138855.65680\n",
       "985   63615.00     119852.0486     191524.35540      0  103378.64470\n",
       "986  100405.00     125285.3634     262510.76090      1  134808.02420\n",
       "987   41289.00     116554.8432     148446.27740      0   84305.73556\n",
       "988   39970.00     116360.0473     145901.26330      0   83178.92524\n",
       "989   43532.00     116886.0996     152774.15210      0   86221.91110\n",
       "990  136133.00     130561.8371     331448.03440      1  165330.14630\n",
       "991  131106.00     129819.4269     321748.42420      0  161035.62360\n",
       "992  105127.00     125982.7298     271621.87280      0  138841.98810\n",
       "993   46798.00     117368.4374     159075.90800      1   89012.02672\n",
       "994   97209.00     124813.3635     256344.07010      0  132077.70900\n",
       "995   54135.00     118451.9990     173232.66950      1   95279.96251\n",
       "996  134970.00     130390.0800     329204.02280      1  164336.60550\n",
       "997  100275.47     241926.3100     227142.82000      1  413956.48000\n",
       "998  128456.23     321652.1400     281692.32000      1  333962.19000\n",
       "999  161181.72     270939.8600     295442.17000      0  476485.43000\n",
       "\n",
       "[991 rows x 5 columns]"
      ]
     },
     "execution_count": 149,
     "metadata": {},
     "output_type": "execute_result"
    }
   ],
   "source": [
    "df"
   ]
  },
  {
   "cell_type": "code",
   "execution_count": 167,
   "metadata": {},
   "outputs": [
    {
     "data": {
      "text/html": [
       "<div>\n",
       "<style scoped>\n",
       "    .dataframe tbody tr th:only-of-type {\n",
       "        vertical-align: middle;\n",
       "    }\n",
       "\n",
       "    .dataframe tbody tr th {\n",
       "        vertical-align: top;\n",
       "    }\n",
       "\n",
       "    .dataframe thead th {\n",
       "        text-align: right;\n",
       "    }\n",
       "</style>\n",
       "<table border=\"1\" class=\"dataframe\">\n",
       "  <thead>\n",
       "    <tr style=\"text-align: right;\">\n",
       "      <th></th>\n",
       "      <th>R&amp;D_Spend</th>\n",
       "      <th>Administration</th>\n",
       "      <th>Marketing_Spend</th>\n",
       "      <th>State</th>\n",
       "      <th>Profit</th>\n",
       "    </tr>\n",
       "  </thead>\n",
       "  <tbody>\n",
       "    <tr>\n",
       "      <th>0</th>\n",
       "      <td>165349.20</td>\n",
       "      <td>136897.80</td>\n",
       "      <td>471784.10</td>\n",
       "      <td>2</td>\n",
       "      <td>192261.83</td>\n",
       "    </tr>\n",
       "    <tr>\n",
       "      <th>1</th>\n",
       "      <td>162597.70</td>\n",
       "      <td>151377.59</td>\n",
       "      <td>443898.53</td>\n",
       "      <td>0</td>\n",
       "      <td>191792.06</td>\n",
       "    </tr>\n",
       "    <tr>\n",
       "      <th>2</th>\n",
       "      <td>153441.51</td>\n",
       "      <td>101145.55</td>\n",
       "      <td>407934.54</td>\n",
       "      <td>1</td>\n",
       "      <td>191050.39</td>\n",
       "    </tr>\n",
       "    <tr>\n",
       "      <th>3</th>\n",
       "      <td>144372.41</td>\n",
       "      <td>118671.85</td>\n",
       "      <td>383199.62</td>\n",
       "      <td>2</td>\n",
       "      <td>182901.99</td>\n",
       "    </tr>\n",
       "    <tr>\n",
       "      <th>4</th>\n",
       "      <td>142107.34</td>\n",
       "      <td>91391.77</td>\n",
       "      <td>366168.42</td>\n",
       "      <td>1</td>\n",
       "      <td>166187.94</td>\n",
       "    </tr>\n",
       "  </tbody>\n",
       "</table>\n",
       "</div>"
      ],
      "text/plain": [
       "   R&D_Spend  Administration  Marketing_Spend  State     Profit\n",
       "0  165349.20       136897.80        471784.10      2  192261.83\n",
       "1  162597.70       151377.59        443898.53      0  191792.06\n",
       "2  153441.51       101145.55        407934.54      1  191050.39\n",
       "3  144372.41       118671.85        383199.62      2  182901.99\n",
       "4  142107.34        91391.77        366168.42      1  166187.94"
      ]
     },
     "execution_count": 167,
     "metadata": {},
     "output_type": "execute_result"
    }
   ],
   "source": [
    "df.head()"
   ]
  },
  {
   "cell_type": "code",
   "execution_count": 173,
   "metadata": {},
   "outputs": [
    {
     "data": {
      "text/html": [
       "<div>\n",
       "<style scoped>\n",
       "    .dataframe tbody tr th:only-of-type {\n",
       "        vertical-align: middle;\n",
       "    }\n",
       "\n",
       "    .dataframe tbody tr th {\n",
       "        vertical-align: top;\n",
       "    }\n",
       "\n",
       "    .dataframe thead th {\n",
       "        text-align: right;\n",
       "    }\n",
       "</style>\n",
       "<table border=\"1\" class=\"dataframe\">\n",
       "  <thead>\n",
       "    <tr style=\"text-align: right;\">\n",
       "      <th></th>\n",
       "      <th>R&amp;D_Spend</th>\n",
       "      <th>Administration</th>\n",
       "      <th>Marketing_Spend</th>\n",
       "      <th>State</th>\n",
       "      <th>Profit</th>\n",
       "    </tr>\n",
       "  </thead>\n",
       "  <tbody>\n",
       "    <tr>\n",
       "      <th>R&amp;D_Spend</th>\n",
       "      <td>1.000000</td>\n",
       "      <td>0.590361</td>\n",
       "      <td>0.980194</td>\n",
       "      <td>0.001160</td>\n",
       "      <td>0.945175</td>\n",
       "    </tr>\n",
       "    <tr>\n",
       "      <th>Administration</th>\n",
       "      <td>0.590361</td>\n",
       "      <td>1.000000</td>\n",
       "      <td>0.526694</td>\n",
       "      <td>-0.024079</td>\n",
       "      <td>0.752159</td>\n",
       "    </tr>\n",
       "    <tr>\n",
       "      <th>Marketing_Spend</th>\n",
       "      <td>0.980194</td>\n",
       "      <td>0.526694</td>\n",
       "      <td>1.000000</td>\n",
       "      <td>0.002566</td>\n",
       "      <td>0.918543</td>\n",
       "    </tr>\n",
       "    <tr>\n",
       "      <th>State</th>\n",
       "      <td>0.001160</td>\n",
       "      <td>-0.024079</td>\n",
       "      <td>0.002566</td>\n",
       "      <td>1.000000</td>\n",
       "      <td>-0.002147</td>\n",
       "    </tr>\n",
       "    <tr>\n",
       "      <th>Profit</th>\n",
       "      <td>0.945175</td>\n",
       "      <td>0.752159</td>\n",
       "      <td>0.918543</td>\n",
       "      <td>-0.002147</td>\n",
       "      <td>1.000000</td>\n",
       "    </tr>\n",
       "  </tbody>\n",
       "</table>\n",
       "</div>"
      ],
      "text/plain": [
       "                 R&D_Spend  Administration  Marketing_Spend     State  \\\n",
       "R&D_Spend         1.000000        0.590361         0.980194  0.001160   \n",
       "Administration    0.590361        1.000000         0.526694 -0.024079   \n",
       "Marketing_Spend   0.980194        0.526694         1.000000  0.002566   \n",
       "State             0.001160       -0.024079         0.002566  1.000000   \n",
       "Profit            0.945175        0.752159         0.918543 -0.002147   \n",
       "\n",
       "                   Profit  \n",
       "R&D_Spend        0.945175  \n",
       "Administration   0.752159  \n",
       "Marketing_Spend  0.918543  \n",
       "State           -0.002147  \n",
       "Profit           1.000000  "
      ]
     },
     "execution_count": 173,
     "metadata": {},
     "output_type": "execute_result"
    }
   ],
   "source": [
    "corr= df.corr()\n",
    "corr"
   ]
  },
  {
   "cell_type": "code",
   "execution_count": 174,
   "metadata": {},
   "outputs": [],
   "source": [
    "cor_target = abs(corr['Profit'])"
   ]
  },
  {
   "cell_type": "code",
   "execution_count": 175,
   "metadata": {},
   "outputs": [
    {
     "data": {
      "text/plain": [
       "R&D_Spend          0.945175\n",
       "Administration     0.752159\n",
       "Marketing_Spend    0.918543\n",
       "State              0.002147\n",
       "Profit             1.000000\n",
       "Name: Profit, dtype: float64"
      ]
     },
     "execution_count": 175,
     "metadata": {},
     "output_type": "execute_result"
    }
   ],
   "source": [
    "cor_target"
   ]
  },
  {
   "cell_type": "code",
   "execution_count": 177,
   "metadata": {},
   "outputs": [
    {
     "data": {
      "text/plain": [
       "pandas.core.frame.DataFrame"
      ]
     },
     "execution_count": 177,
     "metadata": {},
     "output_type": "execute_result"
    }
   ],
   "source": [
    "type(df)"
   ]
  },
  {
   "cell_type": "code",
   "execution_count": 180,
   "metadata": {},
   "outputs": [],
   "source": [
    "relevant_features =  cor_target[cor_target > 0.8]"
   ]
  },
  {
   "cell_type": "code",
   "execution_count": 181,
   "metadata": {},
   "outputs": [
    {
     "data": {
      "text/plain": [
       "R&D_Spend          0.945175\n",
       "Marketing_Spend    0.918543\n",
       "Profit             1.000000\n",
       "Name: Profit, dtype: float64"
      ]
     },
     "execution_count": 181,
     "metadata": {},
     "output_type": "execute_result"
    }
   ],
   "source": [
    "relevant_features"
   ]
  },
  {
   "cell_type": "code",
   "execution_count": 182,
   "metadata": {},
   "outputs": [],
   "source": [
    "#! pip install statsmodel\n",
    "import statsmodels.api as sm ### It gives good results"
   ]
  },
  {
   "cell_type": "code",
   "execution_count": 186,
   "metadata": {},
   "outputs": [],
   "source": [
    "from statsmodels.formula.api import ols ### Ordinary Least Square"
   ]
  },
  {
   "cell_type": "code",
   "execution_count": 188,
   "metadata": {},
   "outputs": [],
   "source": [
    "df['Research_Development'] = df['R&D_Spend']"
   ]
  },
  {
   "cell_type": "code",
   "execution_count": 189,
   "metadata": {},
   "outputs": [],
   "source": [
    "model = ols(\"Profit ~ Marketing_Spend + Research_Development\",data = df).fit()"
   ]
  },
  {
   "cell_type": "code",
   "execution_count": 190,
   "metadata": {},
   "outputs": [
    {
     "data": {
      "text/html": [
       "<table class=\"simpletable\">\n",
       "<caption>OLS Regression Results</caption>\n",
       "<tr>\n",
       "  <th>Dep. Variable:</th>         <td>Profit</td>      <th>  R-squared:         </th> <td>   0.895</td> \n",
       "</tr>\n",
       "<tr>\n",
       "  <th>Model:</th>                   <td>OLS</td>       <th>  Adj. R-squared:    </th> <td>   0.895</td> \n",
       "</tr>\n",
       "<tr>\n",
       "  <th>Method:</th>             <td>Least Squares</td>  <th>  F-statistic:       </th> <td>   4209.</td> \n",
       "</tr>\n",
       "<tr>\n",
       "  <th>Date:</th>             <td>Sat, 21 Mar 2020</td> <th>  Prob (F-statistic):</th>  <td>  0.00</td>  \n",
       "</tr>\n",
       "<tr>\n",
       "  <th>Time:</th>                 <td>16:03:51</td>     <th>  Log-Likelihood:    </th> <td> -10862.</td> \n",
       "</tr>\n",
       "<tr>\n",
       "  <th>No. Observations:</th>      <td>   991</td>      <th>  AIC:               </th> <td>2.173e+04</td>\n",
       "</tr>\n",
       "<tr>\n",
       "  <th>Df Residuals:</th>          <td>   988</td>      <th>  BIC:               </th> <td>2.174e+04</td>\n",
       "</tr>\n",
       "<tr>\n",
       "  <th>Df Model:</th>              <td>     2</td>      <th>                     </th>     <td> </td>    \n",
       "</tr>\n",
       "<tr>\n",
       "  <th>Covariance Type:</th>      <td>nonrobust</td>    <th>                     </th>     <td> </td>    \n",
       "</tr>\n",
       "</table>\n",
       "<table class=\"simpletable\">\n",
       "<tr>\n",
       "            <td></td>              <th>coef</th>     <th>std err</th>      <th>t</th>      <th>P>|t|</th>  <th>[0.025</th>    <th>0.975]</th>  \n",
       "</tr>\n",
       "<tr>\n",
       "  <th>Intercept</th>            <td> 5.499e+04</td> <td> 1916.389</td> <td>   28.693</td> <td> 0.000</td> <td> 5.12e+04</td> <td> 5.87e+04</td>\n",
       "</tr>\n",
       "<tr>\n",
       "  <th>Marketing_Spend</th>      <td>   -0.0947</td> <td>    0.024</td> <td>   -3.875</td> <td> 0.000</td> <td>   -0.143</td> <td>   -0.047</td>\n",
       "</tr>\n",
       "<tr>\n",
       "  <th>Research_Development</th> <td>    1.0536</td> <td>    0.048</td> <td>   21.951</td> <td> 0.000</td> <td>    0.959</td> <td>    1.148</td>\n",
       "</tr>\n",
       "</table>\n",
       "<table class=\"simpletable\">\n",
       "<tr>\n",
       "  <th>Omnibus:</th>       <td>2122.077</td> <th>  Durbin-Watson:     </th>  <td>   0.589</td>  \n",
       "</tr>\n",
       "<tr>\n",
       "  <th>Prob(Omnibus):</th>  <td> 0.000</td>  <th>  Jarque-Bera (JB):  </th> <td>4728969.193</td>\n",
       "</tr>\n",
       "<tr>\n",
       "  <th>Skew:</th>           <td>17.736</td>  <th>  Prob(JB):          </th>  <td>    0.00</td>  \n",
       "</tr>\n",
       "<tr>\n",
       "  <th>Kurtosis:</th>       <td>339.553</td> <th>  Cond. No.          </th>  <td>1.13e+06</td>  \n",
       "</tr>\n",
       "</table><br/><br/>Warnings:<br/>[1] Standard Errors assume that the covariance matrix of the errors is correctly specified.<br/>[2] The condition number is large, 1.13e+06. This might indicate that there are<br/>strong multicollinearity or other numerical problems."
      ],
      "text/plain": [
       "<class 'statsmodels.iolib.summary.Summary'>\n",
       "\"\"\"\n",
       "                            OLS Regression Results                            \n",
       "==============================================================================\n",
       "Dep. Variable:                 Profit   R-squared:                       0.895\n",
       "Model:                            OLS   Adj. R-squared:                  0.895\n",
       "Method:                 Least Squares   F-statistic:                     4209.\n",
       "Date:                Sat, 21 Mar 2020   Prob (F-statistic):               0.00\n",
       "Time:                        16:03:51   Log-Likelihood:                -10862.\n",
       "No. Observations:                 991   AIC:                         2.173e+04\n",
       "Df Residuals:                     988   BIC:                         2.174e+04\n",
       "Df Model:                           2                                         \n",
       "Covariance Type:            nonrobust                                         \n",
       "========================================================================================\n",
       "                           coef    std err          t      P>|t|      [0.025      0.975]\n",
       "----------------------------------------------------------------------------------------\n",
       "Intercept             5.499e+04   1916.389     28.693      0.000    5.12e+04    5.87e+04\n",
       "Marketing_Spend         -0.0947      0.024     -3.875      0.000      -0.143      -0.047\n",
       "Research_Development     1.0536      0.048     21.951      0.000       0.959       1.148\n",
       "==============================================================================\n",
       "Omnibus:                     2122.077   Durbin-Watson:                   0.589\n",
       "Prob(Omnibus):                  0.000   Jarque-Bera (JB):          4728969.193\n",
       "Skew:                          17.736   Prob(JB):                         0.00\n",
       "Kurtosis:                     339.553   Cond. No.                     1.13e+06\n",
       "==============================================================================\n",
       "\n",
       "Warnings:\n",
       "[1] Standard Errors assume that the covariance matrix of the errors is correctly specified.\n",
       "[2] The condition number is large, 1.13e+06. This might indicate that there are\n",
       "strong multicollinearity or other numerical problems.\n",
       "\"\"\""
      ]
     },
     "execution_count": 190,
     "metadata": {},
     "output_type": "execute_result"
    }
   ],
   "source": [
    "model.summary()"
   ]
  },
  {
   "cell_type": "code",
   "execution_count": 191,
   "metadata": {},
   "outputs": [
    {
     "data": {
      "text/plain": [
       "array([184493.89825074, 184236.96092645, 177997.68245156, 170786.29806773,\n",
       "       170013.48182272, 159548.45004581, 184711.65011576, 161578.59773342,\n",
       "       152462.36336707, 156032.56786242, 140646.86054732, 130207.32209343,\n",
       "       127968.04687711, 157051.28564163, 112133.39460441, 127941.87021909,\n",
       "       123708.51772595, 146034.78428209, 107028.54371794, 104207.240915  ,\n",
       "        97261.80120033, 110043.8696147 , 121649.8474421 ,  97494.97399711,\n",
       "       113382.20252153, 113955.3621779 , 117425.37035275,  93117.90792404,\n",
       "        83927.91958301,  83994.04010713,  66130.55188079,  82750.03987396,\n",
       "        58747.44096982,  79030.59469203,  68910.11123387,  68791.28711428,\n",
       "        65871.9312286 ,  67956.33610091,  75667.76399364,  55860.15334271,\n",
       "        28223.5454721 ,  54986.7357788 ,  55557.81615389,  50706.96740268,\n",
       "       124357.44522315,  82231.31272279, 126785.10303893, 105491.72276987,\n",
       "        90026.28860785,  75240.91210787, 114979.44139785, 173791.80298975,\n",
       "        72224.62563544, 171326.70281722, 160221.12615035, 115222.38133565,\n",
       "        85989.48028022, 101547.21420033,  58964.80741721, 158663.35001955,\n",
       "        68485.61464695, 179634.55189273,  94721.38578942, 185982.33721183,\n",
       "        82566.55241868, 145792.75814489, 105855.69729549, 123181.05867202,\n",
       "       170198.20765528,  60614.88329853, 164362.42477392, 183565.99917172,\n",
       "        73488.08743792,  84908.87648851, 170617.03957275,  72498.91266108,\n",
       "        56375.18964795,  67266.56122285,  52240.85704317, 141432.90065921,\n",
       "       168301.70882724, 103468.0940851 ,  78410.45099917, 112410.72169157,\n",
       "        63382.13457086, 143815.2793439 , 116707.88500159, 133969.68145923,\n",
       "       157452.13336977, 169130.66515411,  88912.59623238, 165794.81254392,\n",
       "       132602.600123  , 171069.83084565,  86798.40929493, 179381.16293196,\n",
       "       159516.6874221 ,  56534.53734522,  98891.41924271,  87392.2624678 ,\n",
       "       180696.8698682 , 153200.24919083,  68692.85372393, 140187.72466349,\n",
       "        68934.05214686,  54645.87529341, 137405.67060184, 123156.67760581,\n",
       "       155823.82629845, 115511.47114776,  55188.35406628,  73812.8780919 ,\n",
       "       174726.12036525, 130468.38588285, 116616.4559962 , 171161.25985103,\n",
       "       163274.85497006,  86774.89898142,  91899.27711291, 139960.45827434,\n",
       "       112102.47532947, 130798.40105305, 180786.55737765, 101467.97572331,\n",
       "       137975.14269903,  94894.66552046, 150107.33650897,  91388.14542786,\n",
       "       175176.29938004, 177788.55671199, 113551.40739136, 139232.50923259,\n",
       "        78698.67005858, 142038.94436045, 184321.81229997, 130215.86767479,\n",
       "       153952.5792988 , 134921.41387932, 171189.12393753, 109932.56023798,\n",
       "       122339.91181678, 109508.50379481, 171080.27987808, 163026.69052551,\n",
       "       173275.44678849, 138816.28956375, 106109.95700895, 142691.137936  ,\n",
       "       171332.79808614, 127933.62551304, 120543.54952116, 103636.1493094 ,\n",
       "        86469.26487743, 106203.99827245, 153695.70732722, 102429.28642314,\n",
       "       168101.43576241,  84883.6246696 , 143523.57727368, 157008.04962391,\n",
       "       179591.88501976, 111772.4601498 , 143729.07485473,  65575.55997586,\n",
       "        89075.42694046, 126178.18858498, 165105.17660215, 156010.16732951,\n",
       "       152555.89238014, 180224.92204532, 106944.13784257,  76614.08871302,\n",
       "       110845.10879591, 123424.86936253,  53742.90500952,  73765.85746489,\n",
       "       118108.05493106,  63537.12850462,  66987.04969047, 183379.65815014,\n",
       "       183541.61810552, 158452.62793175, 183571.22368794,  94688.29719618,\n",
       "        76190.90302256,  89802.50522951, 178739.41837938, 114260.19988312,\n",
       "        74404.98975937,  88849.90205672,  94371.34330705, 148196.90564716,\n",
       "       165193.9933589 , 140041.4382473 , 122316.4014938 ,  89813.82501465,\n",
       "        94607.31721376, 161075.33429614,  81226.46440676, 118461.58042424,\n",
       "        61069.41607493, 171423.35633883, 173452.20953981, 129229.30514658,\n",
       "        75213.91877408, 110264.31691358, 147281.74482164,  52917.43169156,\n",
       "       145306.87827876,  53839.55853018,  57838.05375404,  65772.35002988,\n",
       "       122325.10902083,  90141.22792674, 184099.77042704,  67966.64618758,\n",
       "       137699.98493017, 112062.42071461, 143039.43891296,  85977.28974238,\n",
       "       122770.06351939,  96971.41010116,  90927.51739012, 156912.26685501,\n",
       "       123816.70795569, 113862.26601157, 165534.45756153,  68806.05153742,\n",
       "        99712.53879525,  51826.37887974,  58318.70910395,  80267.76596505,\n",
       "       105233.98004559,  50737.06757142,  50818.04754911,  52744.15195578,\n",
       "        64411.36395309, 175095.31939761, 157285.81966035, 119107.67874034,\n",
       "        90394.6168875 , 142079.86971854, 117230.33647177,  58546.84624391,\n",
       "        64082.2195356 , 166036.01096684, 170810.34661596, 110269.5414298 ,\n",
       "        68536.11828477, 103307.87563513, 159882.40344365, 170429.82779846,\n",
       "       172669.40308725,  93233.2698559 , 110636.12821352, 127436.42587124,\n",
       "       131611.68384075, 118041.87774458, 118404.9815175 , 150307.60956433,\n",
       "       115678.65560988, 171946.67856171,  93038.22130729, 144005.974129  ,\n",
       "       170548.25013764,  55713.41779078, 162234.30579321, 164102.94054423,\n",
       "       148249.15079039,  60964.92578184, 113305.85520492, 117006.55309343,\n",
       "       109883.79809609, 103746.73487425,  59762.41665625,  54784.32493244,\n",
       "        73646.56438249,  98512.64193062,  82673.65497272, 170623.13484167,\n",
       "       105512.62082527, 149075.49485915, 183502.43424336,  95588.65522575,\n",
       "        92242.35357365, 127222.22076317, 176181.14769606, 119037.14779035,\n",
       "       155282.21827828,  94399.20738407, 169662.69489455, 103725.83680938,\n",
       "       162529.49087425, 107574.56261949, 175169.33335841,  73057.06497313,\n",
       "       147181.60828922, 165836.60865471, 186682.42217657, 153413.58353673,\n",
       "       101126.64076797, 182658.67513001,  83491.29151446, 121967.22976413,\n",
       "        66433.25113246, 124692.68491905, 151680.78616948, 161080.55881236,\n",
       "        87189.37714486,  97151.65585383, 105673.71002794, 177883.46872819,\n",
       "       170921.80293352, 184928.72675392, 136073.41936425,  70091.282148  ,\n",
       "       171385.04322937, 136927.62751003,  49528.46317881,  60024.51314215,\n",
       "       184028.36872435,  92560.17821548, 186604.05445225, 136696.87811007,\n",
       "        73704.90479464, 162256.07461079, 122077.81532899, 136610.6736209 ,\n",
       "       155818.6017917 , 117267.77882852, 144114.81818845, 132081.01940552,\n",
       "       167632.10019763, 174198.44437886, 143955.47049118,  92051.65878855,\n",
       "       100863.67352748, 146032.21507188, 138609.92122999, 163435.07342003,\n",
       "        93203.66427348, 109003.46737869, 142256.63246987, 157648.92342379,\n",
       "       184653.56897558, 151867.99794377,  79824.55297189,  55400.81766327,\n",
       "       154360.09144061, 147011.811569  , 129158.77420606,  80549.01900283,\n",
       "       174434.41829503, 102675.70936228,  91491.76497109, 159700.41618558,\n",
       "        53782.95962154, 172968.07117909, 169094.96430277, 155490.32811743,\n",
       "       106028.97702653,  64953.84272597,  64930.33241246, 170988.85087269,\n",
       "       146090.55548403, 173028.15309664,  92760.45128032, 163549.14198622,\n",
       "       108482.75741391, 186003.23526723, 153558.99919075,  51406.67620103,\n",
       "        94630.82753674, 104401.54070791, 137758.32534232,  72848.08439074,\n",
       "        51179.40981378, 106751.70155206, 151229.73641147,  64311.22742068,\n",
       "       121187.90633185, 156240.91671999,  87152.80554081, 173356.42677091,\n",
       "       159221.50234107,  67639.24326602, 177626.59675661,  52695.38981863,\n",
       "       124523.75894205,  59278.27829742, 106271.04620215, 166702.13658564,\n",
       "       182607.30073001, 127937.10852385, 173488.78113439, 126549.99988492,\n",
       "        51724.50084381,  59630.06228425,  89178.17573098,  63019.03079795,\n",
       "        58289.97427328,  76994.60753052, 162603.50483505,  77840.10814928,\n",
       "        97849.12856993,  86126.18840721, 151171.39598984, 129914.58732484,\n",
       "        80117.99654751, 155703.66246334, 176268.22293793, 157684.62427514,\n",
       "        71244.15838563, 146980.46448116, 187086.45130757,  68742.48660905,\n",
       "       174762.69195983, 152103.97185995, 187416.46648724, 106554.04075482,\n",
       "       132689.67536487, 115545.4304937 ,  97741.15526319,  78310.31446675,\n",
       "        85914.59556671, 127365.89492125,  67014.91376749, 176861.2053581 ,\n",
       "        58859.44637142, 103212.96361893, 142393.34060633, 158849.69105061,\n",
       "        90545.25706722, 164062.88592937, 127040.23350509,  58410.13811028,\n",
       "       167212.39751798,  90788.19699555, 162721.05641205,  87484.56222589,\n",
       "        72629.52552862,  97605.31787942,  68463.84582938, 159057.80088029,\n",
       "        85670.78488568,  80583.84910148, 165168.74153051, 140253.03109727,\n",
       "       166862.35503561,  68157.34097268,  90782.10172662,  88216.86503116,\n",
       "        64742.24988547, 187036.81842245,  70408.23603713,  91459.54713056,\n",
       "       121611.09201285, 159144.87612216, 146532.02697179,  64831.93738545,\n",
       "        75925.32352395, 183229.0179799 , 102737.53278524, 168973.05896225,\n",
       "        95871.64976894, 160517.18197461,  80143.24836642, 128017.2177441 ,\n",
       "       186942.77714948,  67071.51267423,  77223.6154156 , 166379.95818029,\n",
       "        85038.61860335, 161576.01694875,  73788.4970257 , 101560.2754814 ,\n",
       "       107812.2780316 , 117791.97179463, 157378.11941844, 143057.72471972,\n",
       "        82035.39343095, 143733.42861825, 144588.50751674,  72368.29979353,\n",
       "       135200.054659  ,  57501.94331113, 175897.28240017,  66043.15403523,\n",
       "       140304.40548779,  99433.89801558, 142284.49654689, 157845.71347781,\n",
       "        88262.14415276, 127321.48654288,  65422.30754751, 135986.34412238,\n",
       "       111594.82665524, 103651.82285805,  84935.8698223 , 140737.16945799,\n",
       "        68522.18624153,  96561.28570124,  98833.94958326, 146361.35948938,\n",
       "       139751.47768248, 139902.9886149 ,  77618.06627634, 136748.25251007,\n",
       "        91916.69216697, 171160.38909833, 134684.56921044,  70361.21541012,\n",
       "       125156.7959676 ,  53654.9590121 , 176172.44016903, 153222.01799893,\n",
       "       182495.84442193,  54523.96995194,  69837.02243453,  77830.52986954,\n",
       "       100986.44962069, 186139.94340369, 153191.5416638 , 155436.3414688 ,\n",
       "       185114.1970228 ,  92105.64544666,  58978.73945667, 116474.52334352,\n",
       "       109215.93097189, 184893.02590257, 144310.73748029, 178519.11801185,\n",
       "       156379.36636186, 183945.64723652, 100324.67776541,  77111.28835482,\n",
       "       177650.97782282,  78151.83752219,  56440.49608173, 171324.96131181,\n",
       "        75391.55227811, 149505.64657124, 145474.93350306, 143460.01234532,\n",
       "       177268.71749992, 118899.56890118, 109364.82963672, 107944.63240455,\n",
       "       121434.32927099, 151784.40571271, 106607.15665075, 162434.57885805,\n",
       "       147814.64532426,  98088.58548745, 126901.78386322,  71763.12684499,\n",
       "       131069.20506787, 104651.44665786, 106708.16393587, 148523.43780655,\n",
       "       142746.86609951, 114670.32428305, 186631.04777657,  53594.8770936 ,\n",
       "        76340.67244009,  99708.18503174,  98854.84763866, 175852.87402179,\n",
       "       129303.31910738, 178235.25271596, 108237.20522748,  90718.53679826,\n",
       "        79739.21923542,  84705.99117505, 168384.43031507,  73972.22578917,\n",
       "       130885.4763044 ,  84674.64408721, 132069.69962038, 116937.76364885,\n",
       "        65225.51749349, 129021.19531689, 128728.62249397, 109487.60573941,\n",
       "       178733.32311046,  54543.99725748, 183927.36143923, 103348.80100269,\n",
       "        57143.19330362,  65268.18435699, 163800.78944158,  51160.25326   ,\n",
       "       139175.03957314, 182223.2989017 ,  60065.43850687, 180486.14778041,\n",
       "       184060.58656488, 115100.47599514,  85234.53790467, 158605.8803601 ,\n",
       "       151408.24065873, 128193.10974272, 155654.02957822, 126980.15158754,\n",
       "       139369.21735958, 101797.99090298, 101396.57402062,  63087.82024253,\n",
       "       181474.45180455, 186920.13758868, 103089.31677301, 177707.57672956,\n",
       "       166793.56559102, 135348.95333331,  60980.59932576, 167176.69666663,\n",
       "        77657.2501385 , 155512.96767824, 112287.07484565, 107062.56018175,\n",
       "        68389.83187805, 157412.07876438, 125591.30144321, 174591.15373419,\n",
       "       187127.37667513, 159120.49505595, 107417.82718033, 105336.72883612,\n",
       "       121814.84808849,  56204.52216934, 161181.566088  , 177583.92988364,\n",
       "        99172.67228049, 167679.12083412,  52116.3394436 , 118606.12533503,\n",
       "        80080.55419076,  80102.32299886, 138865.92244886, 150850.9590899 ,\n",
       "       182759.68241513, 103889.53827016,  88497.24731624, 101431.40411926,\n",
       "       142294.07482662, 143826.59912904, 177034.48508914,  56582.42872967,\n",
       "       109700.94008531, 169091.48129195, 155080.20371751, 127783.8560955 ,\n",
       "        76513.0814279 ,  65005.21712597, 173582.82239788, 119729.39598076,\n",
       "       170020.57415125,  95554.69587981,  58899.50098344, 165113.01337647,\n",
       "       164376.35680769,  56362.1283612 ,  79839.35575836,  83455.59066311,\n",
       "        74431.11233099, 147271.29579868,  59428.91846955, 134905.74033067,\n",
       "        71592.45936259,  91696.39179944, 166447.87687217,  98786.05819407,\n",
       "        92777.86633437, 137435.27618426,  79827.16523   , 146088.81397863,\n",
       "        94603.83420295, 101020.40896664,  81894.33153097,  64694.35849628,\n",
       "       114152.22657638, 117426.25577309, 115069.99966001,  99682.93321283,\n",
       "       110610.87638514, 125662.70313643, 164791.70572383, 146103.6167651 ,\n",
       "       141104.62698494,  49934.23381806,  92635.06292899, 160114.02359631,\n",
       "        79185.42067741, 104398.05769709,  98756.45261165, 184206.00221891,\n",
       "        70078.22086693,  53007.11919344, 121157.42999672, 144672.0997478 ,\n",
       "        56376.06040066, 111477.27506877, 145560.26723952,  90338.01798076,\n",
       "        85712.58099648,  99204.89012102,  61646.7249455 , 128678.98960885,\n",
       "        70129.59525745, 160996.09581912,  50469.7465712 ,  83736.84370089,\n",
       "        88679.23457431, 170139.86723365,  87899.91114203, 175355.67438   ,\n",
       "       179426.44205357, 183243.82076638, 120717.7000049 , 153669.58475561,\n",
       "       144097.40313439, 178324.94021594, 166085.64386144,  56854.10349246,\n",
       "       179354.16959817, 150558.38627645, 131700.50058802, 108568.09115038,\n",
       "       111894.36549031, 124566.42581502, 164774.29067924,  91624.11934404,\n",
       "       168610.82594204,  55206.63986831,  57793.64537945, 158054.6940602 ,\n",
       "       105375.91269828, 183430.16179744, 166554.10867351, 133951.39565247,\n",
       "        81645.29633372, 128403.83183052, 116774.06218806, 163237.41261331,\n",
       "       141796.00442265,  50757.09487791, 122077.81532899,  65630.4173772 ,\n",
       "        59897.38328447,  51776.74598988, 164021.96056181,  68018.02057811,\n",
       "       120765.59139409,  72550.2870516 , 184998.38694173, 112706.7775253 ,\n",
       "        74130.70273374, 165989.86109254, 176105.39222985, 120277.09926985,\n",
       "       118397.14474317, 161832.88892032, 153600.79531102, 106977.22643581,\n",
       "       121259.30802507, 142625.83150223,  51582.56819492, 134075.04250786,\n",
       "       174792.29755173, 164662.83436169, 109876.83207446, 145400.04878955,\n",
       "       141485.14580244, 142488.25262253,  57602.95059435, 126891.33484026,\n",
       "       121542.30257774, 129955.5126924 ,  64968.64552192, 100831.45568694,\n",
       "       179832.21268998, 138991.31080019, 128867.07213584, 155636.61452416,\n",
       "       172118.21678734,  59410.63266848,  90953.63996173,  93571.1218099 ,\n",
       "        87215.49971647,  79188.90368822, 183475.44091904, 176275.18895956,\n",
       "        63649.4555654 , 142173.91099151,  54752.1070919 , 142077.25746991,\n",
       "       171508.69008477,  83545.27816309, 187090.80507108, 169981.39028909,\n",
       "       157996.35364805, 154339.19338521, 169109.76709872, 164864.84893193,\n",
       "       131433.17958401,  87393.1332205 , 126377.59089711, 175741.41771371,\n",
       "       144174.0293533 ,  76320.6451374 , 159750.0490707 ,  67531.26995928,\n",
       "        97708.93742265, 172241.86364274, 121557.97611691, 151046.00763852,\n",
       "        79538.07541789, 169878.64150804, 172242.73439544, 126582.21771598,\n",
       "        63463.98529652, 160953.42895562,  72767.10440832, 125470.26684592,\n",
       "       178903.99059286, 168281.68152454, 144593.73203296, 171435.54687667,\n",
       "        74249.12507292, 186720.73527655, 137164.47217892, 186564.87059009,\n",
       "        95390.12366633, 172326.3266265 , 147506.39895268, 109943.88001364,\n",
       "       151909.79406403,  55338.99423936,  88272.5931852 , 110487.22953922,\n",
       "       187335.48650482,  88792.43239727,  86915.0901287 ,  99605.43625069,\n",
       "        98335.87917929, 166361.672383  , 175367.86490837, 110982.68768508,\n",
       "       145455.77695307, 103244.31070676,  87836.34621366, 183084.47306911,\n",
       "        64710.90279764, 182223.2989017 , 141791.65066861,  71648.18751663,\n",
       "        77616.32477094,  50767.5439075 ,  80910.38127034,  86253.31826394,\n",
       "       133516.89018634,  49893.30845334,  99832.70263036,  97816.91072939,\n",
       "       140078.00985134, 149481.26549556, 160733.12857862,  82307.068189  ,\n",
       "       101193.68870715, 114123.49174666,  62229.25833039,  87283.41840835,\n",
       "       129973.79848969,  53176.0451676 , 104659.28343218,  63704.31296674,\n",
       "       169126.3113906 , 117342.66353255, 167268.12568149,  88940.4603094 ,\n",
       "       154333.09811629,  64510.62973281,  50805.85701506,  56659.9256975 ,\n",
       "        66128.4877717 ,  71101.35498024, 168115.36780565,  57063.95483134,\n",
       "        80854.6531163 ,  70761.76153031, 160808.88404483, 113148.24901306,\n",
       "       116993.49180289, 122758.74373426, 163092.86770252, 163060.64986198,\n",
       "       177902.62527818, 118990.12716334, 136076.90237506, 182346.9457571 ,\n",
       "       140907.83693092,  84497.01058318, 180919.78249383,  98261.86522796,\n",
       "        54483.91533898,  95474.58665009, 106775.21187504, 104306.62869171,\n",
       "       135812.19362916, 176216.84854741,  82605.73628084,  65503.28752046,\n",
       "        96934.83849711,  69998.11163721,  93902.87848551, 153310.83474621,\n",
       "        79320.38730847,  83655.86372794,  60311.86144791, 124096.21948806,\n",
       "        51985.72657701, 163071.09889442, 108250.26650855, 141722.86122402,\n",
       "       102579.05584067,  56737.42266437, 160787.98598944, 165320.25246293,\n",
       "       159021.22927624,  91881.86206832, 159486.21108698,  95297.82390824,\n",
       "       150338.95665216, 160063.51994902, 111308.34910124, 148009.6938634 ,\n",
       "        58227.28009667, 121225.34867913, 163393.27729976,  76453.87026305,\n",
       "        95505.06298522, 104732.42664028,  58592.1253712 ,  75974.95641855,\n",
       "        59448.94577604, 130633.82883956,  50479.32484809,  77345.52076559,\n",
       "       187569.71891559, 182729.20608   , 174311.64220182, 141446.83269298,\n",
       "        62802.21344124, 173212.75261282, 112462.0960821 , 124547.26925555,\n",
       "        93186.24922889, 105982.82715222,  74351.87386344, 175704.84610966,\n",
       "        61914.91669842,  60535.64482624, 111015.77627832, 162673.16503233,\n",
       "       108272.90607882, 142560.52506845, 170505.58326467,  97972.77541585,\n",
       "        89777.2534106 ,  99729.08309661,  59715.3960245 , 102956.96240006,\n",
       "        94712.67826239, 156040.64366463,  91051.16423604, 140024.02320271,\n",
       "       103863.41569855, 135898.39811833,  84422.99663186,  83274.47415774,\n",
       "        86376.09435716, 167008.64145181, 162631.36891207, 140010.09115946,\n",
       "        89219.97184178, 133115.47331345,  95608.68252845, 165995.95635198,\n",
       "       139112.74654584, 163634.6658938 , 196810.14017372])"
      ]
     },
     "execution_count": 191,
     "metadata": {},
     "output_type": "execute_result"
    }
   ],
   "source": [
    "model.predict()"
   ]
  },
  {
   "cell_type": "code",
   "execution_count": 194,
   "metadata": {},
   "outputs": [],
   "source": [
    "import seaborn as sns"
   ]
  },
  {
   "cell_type": "code",
   "execution_count": 203,
   "metadata": {},
   "outputs": [
    {
     "name": "stderr",
     "output_type": "stream",
     "text": [
      "C:\\Users\\hp\\Anaconda3\\lib\\site-packages\\scipy\\stats\\stats.py:1713: FutureWarning: Using a non-tuple sequence for multidimensional indexing is deprecated; use `arr[tuple(seq)]` instead of `arr[seq]`. In the future this will be interpreted as an array index, `arr[np.array(seq)]`, which will result either in an error or a different result.\n",
      "  return np.add.reduce(sorted[indexer] * weights, axis=axis) / sumval\n"
     ]
    },
    {
     "data": {
      "text/plain": [
       "<matplotlib.axes._subplots.AxesSubplot at 0x2c454287c50>"
      ]
     },
     "execution_count": 203,
     "metadata": {},
     "output_type": "execute_result"
    },
    {
     "data": {
      "image/png": "[encoded data removed]",
      "text/plain": [
       "<Figure size 432x288 with 1 Axes>"
      ]
     },
     "metadata": {
      "needs_background": "light"
     },
     "output_type": "display_data"
    }
   ],
   "source": [
    "sns.regplot(x = \"Research_Development\", y = 'Profit', data = df)"
   ]
  },
  {
   "cell_type": "code",
   "execution_count": 201,
   "metadata": {},
   "outputs": [
    {
     "data": {
      "image/png": "[encoded data removed]",
      "text/plain": [
       "<Figure size 1080x576 with 3 Axes>"
      ]
     },
     "metadata": {
      "needs_background": "light"
     },
     "output_type": "display_data"
    }
   ],
   "source": [
    "import matplotlib.pyplot as plt\n",
    "fig = plt.figure(figsize = (15,8))\n",
    "fig = sm.graphics.plot_partregress_grid(model,fig = fig)"
   ]
  },
  {
   "cell_type": "code",
   "execution_count": 204,
   "metadata": {},
   "outputs": [
    {
     "data": {
      "text/html": [
       "<div>\n",
       "<style scoped>\n",
       "    .dataframe tbody tr th:only-of-type {\n",
       "        vertical-align: middle;\n",
       "    }\n",
       "\n",
       "    .dataframe tbody tr th {\n",
       "        vertical-align: top;\n",
       "    }\n",
       "\n",
       "    .dataframe thead th {\n",
       "        text-align: right;\n",
       "    }\n",
       "</style>\n",
       "<table border=\"1\" class=\"dataframe\">\n",
       "  <thead>\n",
       "    <tr style=\"text-align: right;\">\n",
       "      <th></th>\n",
       "      <th>R&amp;D_Spend</th>\n",
       "      <th>Administration</th>\n",
       "      <th>Marketing_Spend</th>\n",
       "      <th>State</th>\n",
       "      <th>Profit</th>\n",
       "      <th>Research_Development</th>\n",
       "    </tr>\n",
       "  </thead>\n",
       "  <tbody>\n",
       "    <tr>\n",
       "      <th>0</th>\n",
       "      <td>165349.20</td>\n",
       "      <td>136897.80</td>\n",
       "      <td>471784.10</td>\n",
       "      <td>2</td>\n",
       "      <td>192261.83</td>\n",
       "      <td>165349.20</td>\n",
       "    </tr>\n",
       "    <tr>\n",
       "      <th>1</th>\n",
       "      <td>162597.70</td>\n",
       "      <td>151377.59</td>\n",
       "      <td>443898.53</td>\n",
       "      <td>0</td>\n",
       "      <td>191792.06</td>\n",
       "      <td>162597.70</td>\n",
       "    </tr>\n",
       "    <tr>\n",
       "      <th>2</th>\n",
       "      <td>153441.51</td>\n",
       "      <td>101145.55</td>\n",
       "      <td>407934.54</td>\n",
       "      <td>1</td>\n",
       "      <td>191050.39</td>\n",
       "      <td>153441.51</td>\n",
       "    </tr>\n",
       "    <tr>\n",
       "      <th>3</th>\n",
       "      <td>144372.41</td>\n",
       "      <td>118671.85</td>\n",
       "      <td>383199.62</td>\n",
       "      <td>2</td>\n",
       "      <td>182901.99</td>\n",
       "      <td>144372.41</td>\n",
       "    </tr>\n",
       "    <tr>\n",
       "      <th>4</th>\n",
       "      <td>142107.34</td>\n",
       "      <td>91391.77</td>\n",
       "      <td>366168.42</td>\n",
       "      <td>1</td>\n",
       "      <td>166187.94</td>\n",
       "      <td>142107.34</td>\n",
       "    </tr>\n",
       "  </tbody>\n",
       "</table>\n",
       "</div>"
      ],
      "text/plain": [
       "   R&D_Spend  Administration  Marketing_Spend  State     Profit  \\\n",
       "0  165349.20       136897.80        471784.10      2  192261.83   \n",
       "1  162597.70       151377.59        443898.53      0  191792.06   \n",
       "2  153441.51       101145.55        407934.54      1  191050.39   \n",
       "3  144372.41       118671.85        383199.62      2  182901.99   \n",
       "4  142107.34        91391.77        366168.42      1  166187.94   \n",
       "\n",
       "   Research_Development  \n",
       "0             165349.20  \n",
       "1             162597.70  \n",
       "2             153441.51  \n",
       "3             144372.41  \n",
       "4             142107.34  "
      ]
     },
     "execution_count": 204,
     "metadata": {},
     "output_type": "execute_result"
    }
   ],
   "source": [
    "df.head()"
   ]
  },
  {
   "cell_type": "code",
   "execution_count": 206,
   "metadata": {},
   "outputs": [],
   "source": [
    "df2 = df.drop('R&D_Spend',axis = 1)"
   ]
  },
  {
   "cell_type": "code",
   "execution_count": 207,
   "metadata": {},
   "outputs": [
    {
     "data": {
      "text/html": [
       "<div>\n",
       "<style scoped>\n",
       "    .dataframe tbody tr th:only-of-type {\n",
       "        vertical-align: middle;\n",
       "    }\n",
       "\n",
       "    .dataframe tbody tr th {\n",
       "        vertical-align: top;\n",
       "    }\n",
       "\n",
       "    .dataframe thead th {\n",
       "        text-align: right;\n",
       "    }\n",
       "</style>\n",
       "<table border=\"1\" class=\"dataframe\">\n",
       "  <thead>\n",
       "    <tr style=\"text-align: right;\">\n",
       "      <th></th>\n",
       "      <th>Administration</th>\n",
       "      <th>Marketing_Spend</th>\n",
       "      <th>State</th>\n",
       "      <th>Profit</th>\n",
       "      <th>Research_Development</th>\n",
       "    </tr>\n",
       "  </thead>\n",
       "  <tbody>\n",
       "    <tr>\n",
       "      <th>0</th>\n",
       "      <td>136897.80</td>\n",
       "      <td>471784.10</td>\n",
       "      <td>2</td>\n",
       "      <td>192261.83</td>\n",
       "      <td>165349.20</td>\n",
       "    </tr>\n",
       "    <tr>\n",
       "      <th>1</th>\n",
       "      <td>151377.59</td>\n",
       "      <td>443898.53</td>\n",
       "      <td>0</td>\n",
       "      <td>191792.06</td>\n",
       "      <td>162597.70</td>\n",
       "    </tr>\n",
       "    <tr>\n",
       "      <th>2</th>\n",
       "      <td>101145.55</td>\n",
       "      <td>407934.54</td>\n",
       "      <td>1</td>\n",
       "      <td>191050.39</td>\n",
       "      <td>153441.51</td>\n",
       "    </tr>\n",
       "    <tr>\n",
       "      <th>3</th>\n",
       "      <td>118671.85</td>\n",
       "      <td>383199.62</td>\n",
       "      <td>2</td>\n",
       "      <td>182901.99</td>\n",
       "      <td>144372.41</td>\n",
       "    </tr>\n",
       "    <tr>\n",
       "      <th>4</th>\n",
       "      <td>91391.77</td>\n",
       "      <td>366168.42</td>\n",
       "      <td>1</td>\n",
       "      <td>166187.94</td>\n",
       "      <td>142107.34</td>\n",
       "    </tr>\n",
       "  </tbody>\n",
       "</table>\n",
       "</div>"
      ],
      "text/plain": [
       "   Administration  Marketing_Spend  State     Profit  Research_Development\n",
       "0       136897.80        471784.10      2  192261.83             165349.20\n",
       "1       151377.59        443898.53      0  191792.06             162597.70\n",
       "2       101145.55        407934.54      1  191050.39             153441.51\n",
       "3       118671.85        383199.62      2  182901.99             144372.41\n",
       "4        91391.77        366168.42      1  166187.94             142107.34"
      ]
     },
     "execution_count": 207,
     "metadata": {},
     "output_type": "execute_result"
    }
   ],
   "source": [
    "df2.head()"
   ]
  },
  {
   "cell_type": "code",
   "execution_count": 208,
   "metadata": {},
   "outputs": [
    {
     "data": {
      "text/html": [
       "<div>\n",
       "<style scoped>\n",
       "    .dataframe tbody tr th:only-of-type {\n",
       "        vertical-align: middle;\n",
       "    }\n",
       "\n",
       "    .dataframe tbody tr th {\n",
       "        vertical-align: top;\n",
       "    }\n",
       "\n",
       "    .dataframe thead th {\n",
       "        text-align: right;\n",
       "    }\n",
       "</style>\n",
       "<table border=\"1\" class=\"dataframe\">\n",
       "  <thead>\n",
       "    <tr style=\"text-align: right;\">\n",
       "      <th></th>\n",
       "      <th>R&amp;D_Spend</th>\n",
       "      <th>Administration</th>\n",
       "      <th>Marketing_Spend</th>\n",
       "      <th>State</th>\n",
       "      <th>Profit</th>\n",
       "      <th>Research_Development</th>\n",
       "    </tr>\n",
       "  </thead>\n",
       "  <tbody>\n",
       "    <tr>\n",
       "      <th>0</th>\n",
       "      <td>165349.20</td>\n",
       "      <td>136897.80</td>\n",
       "      <td>471784.10</td>\n",
       "      <td>2</td>\n",
       "      <td>192261.83</td>\n",
       "      <td>165349.20</td>\n",
       "    </tr>\n",
       "    <tr>\n",
       "      <th>1</th>\n",
       "      <td>162597.70</td>\n",
       "      <td>151377.59</td>\n",
       "      <td>443898.53</td>\n",
       "      <td>0</td>\n",
       "      <td>191792.06</td>\n",
       "      <td>162597.70</td>\n",
       "    </tr>\n",
       "    <tr>\n",
       "      <th>2</th>\n",
       "      <td>153441.51</td>\n",
       "      <td>101145.55</td>\n",
       "      <td>407934.54</td>\n",
       "      <td>1</td>\n",
       "      <td>191050.39</td>\n",
       "      <td>153441.51</td>\n",
       "    </tr>\n",
       "    <tr>\n",
       "      <th>3</th>\n",
       "      <td>144372.41</td>\n",
       "      <td>118671.85</td>\n",
       "      <td>383199.62</td>\n",
       "      <td>2</td>\n",
       "      <td>182901.99</td>\n",
       "      <td>144372.41</td>\n",
       "    </tr>\n",
       "    <tr>\n",
       "      <th>4</th>\n",
       "      <td>142107.34</td>\n",
       "      <td>91391.77</td>\n",
       "      <td>366168.42</td>\n",
       "      <td>1</td>\n",
       "      <td>166187.94</td>\n",
       "      <td>142107.34</td>\n",
       "    </tr>\n",
       "  </tbody>\n",
       "</table>\n",
       "</div>"
      ],
      "text/plain": [
       "   R&D_Spend  Administration  Marketing_Spend  State     Profit  \\\n",
       "0  165349.20       136897.80        471784.10      2  192261.83   \n",
       "1  162597.70       151377.59        443898.53      0  191792.06   \n",
       "2  153441.51       101145.55        407934.54      1  191050.39   \n",
       "3  144372.41       118671.85        383199.62      2  182901.99   \n",
       "4  142107.34        91391.77        366168.42      1  166187.94   \n",
       "\n",
       "   Research_Development  \n",
       "0             165349.20  \n",
       "1             162597.70  \n",
       "2             153441.51  \n",
       "3             144372.41  \n",
       "4             142107.34  "
      ]
     },
     "execution_count": 208,
     "metadata": {},
     "output_type": "execute_result"
    }
   ],
   "source": [
    "df.head()"
   ]
  },
  {
   "cell_type": "code",
   "execution_count": 217,
   "metadata": {},
   "outputs": [],
   "source": [
    "df3 = df.drop('Research_Development',axis = 1,inplace = True)"
   ]
  },
  {
   "cell_type": "code",
   "execution_count": 219,
   "metadata": {},
   "outputs": [],
   "source": [
    "df3"
   ]
  },
  {
   "cell_type": "code",
   "execution_count": 215,
   "metadata": {},
   "outputs": [],
   "source": [
    "df3 = df3.drop('State',axis = 1)"
   ]
  },
  {
   "cell_type": "code",
   "execution_count": 216,
   "metadata": {},
   "outputs": [
    {
     "data": {
      "text/html": [
       "<div>\n",
       "<style scoped>\n",
       "    .dataframe tbody tr th:only-of-type {\n",
       "        vertical-align: middle;\n",
       "    }\n",
       "\n",
       "    .dataframe tbody tr th {\n",
       "        vertical-align: top;\n",
       "    }\n",
       "\n",
       "    .dataframe thead th {\n",
       "        text-align: right;\n",
       "    }\n",
       "</style>\n",
       "<table border=\"1\" class=\"dataframe\">\n",
       "  <thead>\n",
       "    <tr style=\"text-align: right;\">\n",
       "      <th></th>\n",
       "      <th>R&amp;D_Spend</th>\n",
       "      <th>Administration</th>\n",
       "      <th>Marketing_Spend</th>\n",
       "      <th>Profit</th>\n",
       "      <th>Research_Development</th>\n",
       "    </tr>\n",
       "  </thead>\n",
       "  <tbody>\n",
       "    <tr>\n",
       "      <th>0</th>\n",
       "      <td>165349.20</td>\n",
       "      <td>136897.80</td>\n",
       "      <td>471784.10</td>\n",
       "      <td>192261.83</td>\n",
       "      <td>165349.20</td>\n",
       "    </tr>\n",
       "    <tr>\n",
       "      <th>1</th>\n",
       "      <td>162597.70</td>\n",
       "      <td>151377.59</td>\n",
       "      <td>443898.53</td>\n",
       "      <td>191792.06</td>\n",
       "      <td>162597.70</td>\n",
       "    </tr>\n",
       "    <tr>\n",
       "      <th>2</th>\n",
       "      <td>153441.51</td>\n",
       "      <td>101145.55</td>\n",
       "      <td>407934.54</td>\n",
       "      <td>191050.39</td>\n",
       "      <td>153441.51</td>\n",
       "    </tr>\n",
       "    <tr>\n",
       "      <th>3</th>\n",
       "      <td>144372.41</td>\n",
       "      <td>118671.85</td>\n",
       "      <td>383199.62</td>\n",
       "      <td>182901.99</td>\n",
       "      <td>144372.41</td>\n",
       "    </tr>\n",
       "    <tr>\n",
       "      <th>4</th>\n",
       "      <td>142107.34</td>\n",
       "      <td>91391.77</td>\n",
       "      <td>366168.42</td>\n",
       "      <td>166187.94</td>\n",
       "      <td>142107.34</td>\n",
       "    </tr>\n",
       "  </tbody>\n",
       "</table>\n",
       "</div>"
      ],
      "text/plain": [
       "   R&D_Spend  Administration  Marketing_Spend     Profit  Research_Development\n",
       "0  165349.20       136897.80        471784.10  192261.83             165349.20\n",
       "1  162597.70       151377.59        443898.53  191792.06             162597.70\n",
       "2  153441.51       101145.55        407934.54  191050.39             153441.51\n",
       "3  144372.41       118671.85        383199.62  182901.99             144372.41\n",
       "4  142107.34        91391.77        366168.42  166187.94             142107.34"
      ]
     },
     "execution_count": 216,
     "metadata": {},
     "output_type": "execute_result"
    }
   ],
   "source": [
    "df3.head()"
   ]
  },
  {
   "cell_type": "code",
   "execution_count": 221,
   "metadata": {},
   "outputs": [],
   "source": [
    "df2 = df2.drop('Research_Development',axis = 1)"
   ]
  },
  {
   "cell_type": "code",
   "execution_count": 222,
   "metadata": {},
   "outputs": [
    {
     "data": {
      "text/html": [
       "<div>\n",
       "<style scoped>\n",
       "    .dataframe tbody tr th:only-of-type {\n",
       "        vertical-align: middle;\n",
       "    }\n",
       "\n",
       "    .dataframe tbody tr th {\n",
       "        vertical-align: top;\n",
       "    }\n",
       "\n",
       "    .dataframe thead th {\n",
       "        text-align: right;\n",
       "    }\n",
       "</style>\n",
       "<table border=\"1\" class=\"dataframe\">\n",
       "  <thead>\n",
       "    <tr style=\"text-align: right;\">\n",
       "      <th></th>\n",
       "      <th>R&amp;D_Spend</th>\n",
       "      <th>Administration</th>\n",
       "      <th>Marketing_Spend</th>\n",
       "      <th>Profit</th>\n",
       "    </tr>\n",
       "  </thead>\n",
       "  <tbody>\n",
       "    <tr>\n",
       "      <th>0</th>\n",
       "      <td>165349.20</td>\n",
       "      <td>136897.80</td>\n",
       "      <td>471784.10</td>\n",
       "      <td>192261.83</td>\n",
       "    </tr>\n",
       "    <tr>\n",
       "      <th>1</th>\n",
       "      <td>162597.70</td>\n",
       "      <td>151377.59</td>\n",
       "      <td>443898.53</td>\n",
       "      <td>191792.06</td>\n",
       "    </tr>\n",
       "    <tr>\n",
       "      <th>2</th>\n",
       "      <td>153441.51</td>\n",
       "      <td>101145.55</td>\n",
       "      <td>407934.54</td>\n",
       "      <td>191050.39</td>\n",
       "    </tr>\n",
       "    <tr>\n",
       "      <th>3</th>\n",
       "      <td>144372.41</td>\n",
       "      <td>118671.85</td>\n",
       "      <td>383199.62</td>\n",
       "      <td>182901.99</td>\n",
       "    </tr>\n",
       "    <tr>\n",
       "      <th>4</th>\n",
       "      <td>142107.34</td>\n",
       "      <td>91391.77</td>\n",
       "      <td>366168.42</td>\n",
       "      <td>166187.94</td>\n",
       "    </tr>\n",
       "  </tbody>\n",
       "</table>\n",
       "</div>"
      ],
      "text/plain": [
       "   R&D_Spend  Administration  Marketing_Spend     Profit\n",
       "0  165349.20       136897.80        471784.10  192261.83\n",
       "1  162597.70       151377.59        443898.53  191792.06\n",
       "2  153441.51       101145.55        407934.54  191050.39\n",
       "3  144372.41       118671.85        383199.62  182901.99\n",
       "4  142107.34        91391.77        366168.42  166187.94"
      ]
     },
     "execution_count": 222,
     "metadata": {},
     "output_type": "execute_result"
    }
   ],
   "source": [
    "df2.head()"
   ]
  },
  {
   "cell_type": "code",
   "execution_count": 225,
   "metadata": {},
   "outputs": [],
   "source": [
    "X = df2.iloc[:,:-1]"
   ]
  },
  {
   "cell_type": "code",
   "execution_count": 226,
   "metadata": {},
   "outputs": [
    {
     "data": {
      "text/html": [
       "<div>\n",
       "<style scoped>\n",
       "    .dataframe tbody tr th:only-of-type {\n",
       "        vertical-align: middle;\n",
       "    }\n",
       "\n",
       "    .dataframe tbody tr th {\n",
       "        vertical-align: top;\n",
       "    }\n",
       "\n",
       "    .dataframe thead th {\n",
       "        text-align: right;\n",
       "    }\n",
       "</style>\n",
       "<table border=\"1\" class=\"dataframe\">\n",
       "  <thead>\n",
       "    <tr style=\"text-align: right;\">\n",
       "      <th></th>\n",
       "      <th>R&amp;D_Spend</th>\n",
       "      <th>Administration</th>\n",
       "      <th>Marketing_Spend</th>\n",
       "    </tr>\n",
       "  </thead>\n",
       "  <tbody>\n",
       "    <tr>\n",
       "      <th>0</th>\n",
       "      <td>165349.20</td>\n",
       "      <td>136897.80</td>\n",
       "      <td>471784.10</td>\n",
       "    </tr>\n",
       "    <tr>\n",
       "      <th>1</th>\n",
       "      <td>162597.70</td>\n",
       "      <td>151377.59</td>\n",
       "      <td>443898.53</td>\n",
       "    </tr>\n",
       "    <tr>\n",
       "      <th>2</th>\n",
       "      <td>153441.51</td>\n",
       "      <td>101145.55</td>\n",
       "      <td>407934.54</td>\n",
       "    </tr>\n",
       "    <tr>\n",
       "      <th>3</th>\n",
       "      <td>144372.41</td>\n",
       "      <td>118671.85</td>\n",
       "      <td>383199.62</td>\n",
       "    </tr>\n",
       "    <tr>\n",
       "      <th>4</th>\n",
       "      <td>142107.34</td>\n",
       "      <td>91391.77</td>\n",
       "      <td>366168.42</td>\n",
       "    </tr>\n",
       "  </tbody>\n",
       "</table>\n",
       "</div>"
      ],
      "text/plain": [
       "   R&D_Spend  Administration  Marketing_Spend\n",
       "0  165349.20       136897.80        471784.10\n",
       "1  162597.70       151377.59        443898.53\n",
       "2  153441.51       101145.55        407934.54\n",
       "3  144372.41       118671.85        383199.62\n",
       "4  142107.34        91391.77        366168.42"
      ]
     },
     "execution_count": 226,
     "metadata": {},
     "output_type": "execute_result"
    }
   ],
   "source": [
    "X.head()"
   ]
  },
  {
   "cell_type": "code",
   "execution_count": 229,
   "metadata": {},
   "outputs": [],
   "source": [
    "y = df2.iloc[:,3]"
   ]
  },
  {
   "cell_type": "code",
   "execution_count": 230,
   "metadata": {},
   "outputs": [
    {
     "data": {
      "text/plain": [
       "0    192261.83\n",
       "1    191792.06\n",
       "2    191050.39\n",
       "3    182901.99\n",
       "4    166187.94\n",
       "Name: Profit, dtype: float64"
      ]
     },
     "execution_count": 230,
     "metadata": {},
     "output_type": "execute_result"
    }
   ],
   "source": [
    "y.head()"
   ]
  },
  {
   "cell_type": "code",
   "execution_count": 231,
   "metadata": {},
   "outputs": [],
   "source": [
    "from sklearn.model_selection import train_test_split"
   ]
  },
  {
   "cell_type": "code",
   "execution_count": 232,
   "metadata": {},
   "outputs": [],
   "source": [
    "X_train,X_test,y_train,y_test = train_test_split(X,y,test_size = 0.4)"
   ]
  },
  {
   "cell_type": "code",
   "execution_count": 233,
   "metadata": {},
   "outputs": [
    {
     "data": {
      "text/plain": [
       "((594, 3), (397, 3))"
      ]
     },
     "execution_count": 233,
     "metadata": {},
     "output_type": "execute_result"
    }
   ],
   "source": [
    "X_train.shape,X_test.shape"
   ]
  },
  {
   "cell_type": "code",
   "execution_count": 234,
   "metadata": {},
   "outputs": [
    {
     "data": {
      "text/plain": [
       "((594,), (397,))"
      ]
     },
     "execution_count": 234,
     "metadata": {},
     "output_type": "execute_result"
    }
   ],
   "source": [
    "y_train.shape,y_test.shape"
   ]
  },
  {
   "cell_type": "code",
   "execution_count": 239,
   "metadata": {},
   "outputs": [],
   "source": [
    "from sklearn.linear_model import LinearRegression"
   ]
  },
  {
   "cell_type": "code",
   "execution_count": 240,
   "metadata": {},
   "outputs": [],
   "source": [
    "model = LinearRegression()"
   ]
  },
  {
   "cell_type": "code",
   "execution_count": 243,
   "metadata": {},
   "outputs": [],
   "source": [
    "train_fit = model.fit(X_train,y_train)"
   ]
  },
  {
   "cell_type": "code",
   "execution_count": 244,
   "metadata": {},
   "outputs": [
    {
     "data": {
      "text/plain": [
       "-126082.52882658782"
      ]
     },
     "execution_count": 244,
     "metadata": {},
     "output_type": "execute_result"
    }
   ],
   "source": [
    "train_fit.intercept_"
   ]
  },
  {
   "cell_type": "code",
   "execution_count": 264,
   "metadata": {},
   "outputs": [
    {
     "data": {
      "text/plain": [
       "0.9443040326414254"
      ]
     },
     "execution_count": 264,
     "metadata": {},
     "output_type": "execute_result"
    }
   ],
   "source": [
    "train_fit.score(X_train,y_train)"
   ]
  },
  {
   "cell_type": "code",
   "execution_count": 245,
   "metadata": {},
   "outputs": [
    {
     "data": {
      "text/plain": [
       "array([0.33088932, 1.49745625, 0.15592977])"
      ]
     },
     "execution_count": 245,
     "metadata": {},
     "output_type": "execute_result"
    }
   ],
   "source": [
    "train_fit.coef_"
   ]
  },
  {
   "cell_type": "code",
   "execution_count": 246,
   "metadata": {},
   "outputs": [
    {
     "data": {
      "text/plain": [
       "(991, 4)"
      ]
     },
     "execution_count": 246,
     "metadata": {},
     "output_type": "execute_result"
    }
   ],
   "source": [
    "df2.shape"
   ]
  },
  {
   "cell_type": "code",
   "execution_count": 247,
   "metadata": {},
   "outputs": [
    {
     "data": {
      "text/plain": [
       "693.6999999999999"
      ]
     },
     "execution_count": 247,
     "metadata": {},
     "output_type": "execute_result"
    }
   ],
   "source": [
    "991*0.7"
   ]
  },
  {
   "cell_type": "code",
   "execution_count": 254,
   "metadata": {},
   "outputs": [],
   "source": [
    "training = df2.iloc[0:694,]"
   ]
  },
  {
   "cell_type": "code",
   "execution_count": 255,
   "metadata": {},
   "outputs": [
    {
     "data": {
      "text/html": [
       "<div>\n",
       "<style scoped>\n",
       "    .dataframe tbody tr th:only-of-type {\n",
       "        vertical-align: middle;\n",
       "    }\n",
       "\n",
       "    .dataframe tbody tr th {\n",
       "        vertical-align: top;\n",
       "    }\n",
       "\n",
       "    .dataframe thead th {\n",
       "        text-align: right;\n",
       "    }\n",
       "</style>\n",
       "<table border=\"1\" class=\"dataframe\">\n",
       "  <thead>\n",
       "    <tr style=\"text-align: right;\">\n",
       "      <th></th>\n",
       "      <th>R&amp;D_Spend</th>\n",
       "      <th>Administration</th>\n",
       "      <th>Marketing_Spend</th>\n",
       "      <th>Profit</th>\n",
       "    </tr>\n",
       "  </thead>\n",
       "  <tbody>\n",
       "    <tr>\n",
       "      <th>0</th>\n",
       "      <td>165349.20</td>\n",
       "      <td>136897.80</td>\n",
       "      <td>471784.10</td>\n",
       "      <td>192261.83</td>\n",
       "    </tr>\n",
       "    <tr>\n",
       "      <th>1</th>\n",
       "      <td>162597.70</td>\n",
       "      <td>151377.59</td>\n",
       "      <td>443898.53</td>\n",
       "      <td>191792.06</td>\n",
       "    </tr>\n",
       "    <tr>\n",
       "      <th>2</th>\n",
       "      <td>153441.51</td>\n",
       "      <td>101145.55</td>\n",
       "      <td>407934.54</td>\n",
       "      <td>191050.39</td>\n",
       "    </tr>\n",
       "    <tr>\n",
       "      <th>3</th>\n",
       "      <td>144372.41</td>\n",
       "      <td>118671.85</td>\n",
       "      <td>383199.62</td>\n",
       "      <td>182901.99</td>\n",
       "    </tr>\n",
       "    <tr>\n",
       "      <th>4</th>\n",
       "      <td>142107.34</td>\n",
       "      <td>91391.77</td>\n",
       "      <td>366168.42</td>\n",
       "      <td>166187.94</td>\n",
       "    </tr>\n",
       "  </tbody>\n",
       "</table>\n",
       "</div>"
      ],
      "text/plain": [
       "   R&D_Spend  Administration  Marketing_Spend     Profit\n",
       "0  165349.20       136897.80        471784.10  192261.83\n",
       "1  162597.70       151377.59        443898.53  191792.06\n",
       "2  153441.51       101145.55        407934.54  191050.39\n",
       "3  144372.41       118671.85        383199.62  182901.99\n",
       "4  142107.34        91391.77        366168.42  166187.94"
      ]
     },
     "execution_count": 255,
     "metadata": {},
     "output_type": "execute_result"
    }
   ],
   "source": [
    "training.head()"
   ]
  },
  {
   "cell_type": "code",
   "execution_count": 252,
   "metadata": {},
   "outputs": [
    {
     "data": {
      "text/plain": [
       "(694, 4)"
      ]
     },
     "execution_count": 252,
     "metadata": {},
     "output_type": "execute_result"
    }
   ],
   "source": [
    "training.shape"
   ]
  },
  {
   "cell_type": "code",
   "execution_count": 259,
   "metadata": {},
   "outputs": [],
   "source": [
    "testing = df2.iloc[695:991,]"
   ]
  },
  {
   "cell_type": "code",
   "execution_count": 260,
   "metadata": {},
   "outputs": [
    {
     "data": {
      "text/html": [
       "<div>\n",
       "<style scoped>\n",
       "    .dataframe tbody tr th:only-of-type {\n",
       "        vertical-align: middle;\n",
       "    }\n",
       "\n",
       "    .dataframe tbody tr th {\n",
       "        vertical-align: top;\n",
       "    }\n",
       "\n",
       "    .dataframe thead th {\n",
       "        text-align: right;\n",
       "    }\n",
       "</style>\n",
       "<table border=\"1\" class=\"dataframe\">\n",
       "  <thead>\n",
       "    <tr style=\"text-align: right;\">\n",
       "      <th></th>\n",
       "      <th>R&amp;D_Spend</th>\n",
       "      <th>Administration</th>\n",
       "      <th>Marketing_Spend</th>\n",
       "      <th>Profit</th>\n",
       "    </tr>\n",
       "  </thead>\n",
       "  <tbody>\n",
       "    <tr>\n",
       "      <th>704</th>\n",
       "      <td>155883.0</td>\n",
       "      <td>133478.6071</td>\n",
       "      <td>369555.71340</td>\n",
       "      <td>182202.40090</td>\n",
       "    </tr>\n",
       "    <tr>\n",
       "      <th>705</th>\n",
       "      <td>24815.0</td>\n",
       "      <td>114121.8878</td>\n",
       "      <td>116659.64940</td>\n",
       "      <td>70232.13951</td>\n",
       "    </tr>\n",
       "    <tr>\n",
       "      <th>706</th>\n",
       "      <td>5210.0</td>\n",
       "      <td>111226.5321</td>\n",
       "      <td>78831.74841</td>\n",
       "      <td>53483.75718</td>\n",
       "    </tr>\n",
       "    <tr>\n",
       "      <th>707</th>\n",
       "      <td>83476.0</td>\n",
       "      <td>122785.2115</td>\n",
       "      <td>229846.20910</td>\n",
       "      <td>120345.72560</td>\n",
       "    </tr>\n",
       "    <tr>\n",
       "      <th>708</th>\n",
       "      <td>110481.0</td>\n",
       "      <td>126773.4329</td>\n",
       "      <td>281952.43040</td>\n",
       "      <td>143415.86410</td>\n",
       "    </tr>\n",
       "  </tbody>\n",
       "</table>\n",
       "</div>"
      ],
      "text/plain": [
       "     R&D_Spend  Administration  Marketing_Spend        Profit\n",
       "704   155883.0     133478.6071     369555.71340  182202.40090\n",
       "705    24815.0     114121.8878     116659.64940   70232.13951\n",
       "706     5210.0     111226.5321      78831.74841   53483.75718\n",
       "707    83476.0     122785.2115     229846.20910  120345.72560\n",
       "708   110481.0     126773.4329     281952.43040  143415.86410"
      ]
     },
     "execution_count": 260,
     "metadata": {},
     "output_type": "execute_result"
    }
   ],
   "source": [
    "testing.head()"
   ]
  },
  {
   "cell_type": "code",
   "execution_count": 261,
   "metadata": {},
   "outputs": [],
   "source": [
    "model = ols(\"Profit ~ Marketing_Spend + Administration\",data = training).fit()"
   ]
  },
  {
   "cell_type": "code",
   "execution_count": 262,
   "metadata": {},
   "outputs": [
    {
     "data": {
      "text/html": [
       "<table class=\"simpletable\">\n",
       "<caption>OLS Regression Results</caption>\n",
       "<tr>\n",
       "  <th>Dep. Variable:</th>         <td>Profit</td>      <th>  R-squared:         </th> <td>   0.963</td> \n",
       "</tr>\n",
       "<tr>\n",
       "  <th>Model:</th>                   <td>OLS</td>       <th>  Adj. R-squared:    </th> <td>   0.963</td> \n",
       "</tr>\n",
       "<tr>\n",
       "  <th>Method:</th>             <td>Least Squares</td>  <th>  F-statistic:       </th> <td>   8902.</td> \n",
       "</tr>\n",
       "<tr>\n",
       "  <th>Date:</th>             <td>Sat, 21 Mar 2020</td> <th>  Prob (F-statistic):</th>  <td>  0.00</td>  \n",
       "</tr>\n",
       "<tr>\n",
       "  <th>Time:</th>                 <td>16:58:53</td>     <th>  Log-Likelihood:    </th> <td> -7191.3</td> \n",
       "</tr>\n",
       "<tr>\n",
       "  <th>No. Observations:</th>      <td>   694</td>      <th>  AIC:               </th> <td>1.439e+04</td>\n",
       "</tr>\n",
       "<tr>\n",
       "  <th>Df Residuals:</th>          <td>   691</td>      <th>  BIC:               </th> <td>1.440e+04</td>\n",
       "</tr>\n",
       "<tr>\n",
       "  <th>Df Model:</th>              <td>     2</td>      <th>                     </th>     <td> </td>    \n",
       "</tr>\n",
       "<tr>\n",
       "  <th>Covariance Type:</th>      <td>nonrobust</td>    <th>                     </th>     <td> </td>    \n",
       "</tr>\n",
       "</table>\n",
       "<table class=\"simpletable\">\n",
       "<tr>\n",
       "         <td></td>            <th>coef</th>     <th>std err</th>      <th>t</th>      <th>P>|t|</th>  <th>[0.025</th>    <th>0.975]</th>  \n",
       "</tr>\n",
       "<tr>\n",
       "  <th>Intercept</th>       <td>-4.057e+04</td> <td> 4227.562</td> <td>   -9.597</td> <td> 0.000</td> <td>-4.89e+04</td> <td>-3.23e+04</td>\n",
       "</tr>\n",
       "<tr>\n",
       "  <th>Marketing_Spend</th> <td>    0.3812</td> <td>    0.004</td> <td>   93.199</td> <td> 0.000</td> <td>    0.373</td> <td>    0.389</td>\n",
       "</tr>\n",
       "<tr>\n",
       "  <th>Administration</th>  <td>    0.5959</td> <td>    0.039</td> <td>   15.404</td> <td> 0.000</td> <td>    0.520</td> <td>    0.672</td>\n",
       "</tr>\n",
       "</table>\n",
       "<table class=\"simpletable\">\n",
       "<tr>\n",
       "  <th>Omnibus:</th>       <td>413.646</td> <th>  Durbin-Watson:     </th>  <td>   2.210</td> \n",
       "</tr>\n",
       "<tr>\n",
       "  <th>Prob(Omnibus):</th> <td> 0.000</td>  <th>  Jarque-Bera (JB):  </th> <td>103196.495</td>\n",
       "</tr>\n",
       "<tr>\n",
       "  <th>Skew:</th>          <td>-1.482</td>  <th>  Prob(JB):          </th>  <td>    0.00</td> \n",
       "</tr>\n",
       "<tr>\n",
       "  <th>Kurtosis:</th>      <td>62.665</td>  <th>  Cond. No.          </th>  <td>3.94e+06</td> \n",
       "</tr>\n",
       "</table><br/><br/>Warnings:<br/>[1] Standard Errors assume that the covariance matrix of the errors is correctly specified.<br/>[2] The condition number is large, 3.94e+06. This might indicate that there are<br/>strong multicollinearity or other numerical problems."
      ],
      "text/plain": [
       "<class 'statsmodels.iolib.summary.Summary'>\n",
       "\"\"\"\n",
       "                            OLS Regression Results                            \n",
       "==============================================================================\n",
       "Dep. Variable:                 Profit   R-squared:                       0.963\n",
       "Model:                            OLS   Adj. R-squared:                  0.963\n",
       "Method:                 Least Squares   F-statistic:                     8902.\n",
       "Date:                Sat, 21 Mar 2020   Prob (F-statistic):               0.00\n",
       "Time:                        16:58:53   Log-Likelihood:                -7191.3\n",
       "No. Observations:                 694   AIC:                         1.439e+04\n",
       "Df Residuals:                     691   BIC:                         1.440e+04\n",
       "Df Model:                           2                                         \n",
       "Covariance Type:            nonrobust                                         \n",
       "===================================================================================\n",
       "                      coef    std err          t      P>|t|      [0.025      0.975]\n",
       "-----------------------------------------------------------------------------------\n",
       "Intercept       -4.057e+04   4227.562     -9.597      0.000   -4.89e+04   -3.23e+04\n",
       "Marketing_Spend     0.3812      0.004     93.199      0.000       0.373       0.389\n",
       "Administration      0.5959      0.039     15.404      0.000       0.520       0.672\n",
       "==============================================================================\n",
       "Omnibus:                      413.646   Durbin-Watson:                   2.210\n",
       "Prob(Omnibus):                  0.000   Jarque-Bera (JB):           103196.495\n",
       "Skew:                          -1.482   Prob(JB):                         0.00\n",
       "Kurtosis:                      62.665   Cond. No.                     3.94e+06\n",
       "==============================================================================\n",
       "\n",
       "Warnings:\n",
       "[1] Standard Errors assume that the covariance matrix of the errors is correctly specified.\n",
       "[2] The condition number is large, 3.94e+06. This might indicate that there are\n",
       "strong multicollinearity or other numerical problems.\n",
       "\"\"\""
      ]
     },
     "execution_count": 262,
     "metadata": {},
     "output_type": "execute_result"
    }
   ],
   "source": [
    "model.summary()"
   ]
  },
  {
   "cell_type": "code",
   "execution_count": null,
   "metadata": {},
   "outputs": [],
   "source": []
  }
 ],
 "metadata": {
  "kernelspec": {
   "display_name": "Python 3",
   "language": "python",
   "name": "python3"
  },
  "language_info": {
   "codemirror_mode": {
    "name": "ipython",
    "version": 3
   },
   "file_extension": ".py",
   "mimetype": "text/x-python",
   "name": "python",
   "nbconvert_exporter": "python",
   "pygments_lexer": "ipython3",
   "version": "3.7.4"
  }
 },
 "nbformat": 4,
 "nbformat_minor": 2
}
